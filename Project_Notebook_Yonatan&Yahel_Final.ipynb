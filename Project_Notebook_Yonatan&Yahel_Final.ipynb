{
 "cells": [
  {
   "cell_type": "markdown",
   "id": "4ffed36f",
   "metadata": {},
   "source": [
    "# Y & Y ML Project "
   ]
  },
  {
   "cell_type": "code",
   "execution_count": 832,
   "id": "0a91dd85",
   "metadata": {},
   "outputs": [],
   "source": [
    "import re\n",
    "import bs4\n",
    "import requests\n",
    "from bs4 import BeautifulSoup\n",
    "import pandas as pd\n",
    "import scipy as sc\n",
    "import numpy as np\n",
    "import time\n",
    "import csv"
   ]
  },
  {
   "cell_type": "code",
   "execution_count": 833,
   "id": "580ddae2",
   "metadata": {},
   "outputs": [],
   "source": [
    "#List of all the games categories:\n",
    "dic_categories = [\"action\", \"hack_and_slash\", \"shmup\", \"rpg\", \"strategy\",\n",
    "                  \"tower_defense\", \"adventure\", \"casual\", \"hidden_object\",\n",
    "                    \"metroidvania\", \"story_rich\", \"visual_novel\",\n",
    "                    \"simulation\", \"sports\", \"racing\"]\n",
    "\n",
    "#Extract all links of games of one category.\n",
    "def links_games_extraction(category):\n",
    "    url = \"https://store.steampowered.com/contenthub/querypaginated/tags/ConcurrentUsers/render/\"\n",
    "    params = {\n",
    "        \"query\": \"\",\n",
    "        \"start\": 0,\n",
    "        \"count\": 15,\n",
    "        \"cc\": \"US\",\n",
    "        \"l\": \"english\",\n",
    "        \"v\": \"4\",\n",
    "        \"tag\": category,\n",
    "        \"tagid\": \"19\",\n",
    "    }\n",
    "    links_list = []\n",
    "    for page in range(2000):  # <-- increase number of pages here\n",
    "        params[\"start\"] = page\n",
    "        data = requests.get(url, params=params).json()\n",
    "        soup = BeautifulSoup(data[\"results_html\"], \"html.parser\")\n",
    "        link_to_game = soup.find_all('a', class_=\"tab_item\")\n",
    "        try:\n",
    "            links_list.append(link_to_game[0][\"href\"])\n",
    "        except IndexError:\n",
    "            break\n",
    "    return links_list\n",
    "\n",
    "links_list_outside = []\n",
    "links_list_inside = []"
   ]
  },
  {
   "cell_type": "code",
   "execution_count": 834,
   "id": "78011377",
   "metadata": {},
   "outputs": [],
   "source": [
    "#Creating lists of all the relevant features.\n",
    "general_list_names = []\n",
    "general_list_genres_by_site = []\n",
    "general_list_languages = []\n",
    "general_list_release_date = []\n",
    "general_list_developer = []\n",
    "general_list_price = []\n",
    "general_list_tags = []\n",
    "general_list_content_description = []\n",
    "general_list_reviwes_all = []\n",
    "general_list_reviwes_positive = []\n",
    "general_list_reviwes_nagitive = []\n",
    "general_list_achievments_game_link = []\n",
    "general_list_achievments_game_names = []\n",
    "general_list_achievments_game_ranks = []\n",
    "general_list_achievments_game_link = []\n",
    "general_list_achievments_num = []\n",
    "general_list_achievments_names = []\n",
    "general_list_achievments_grades = []\n",
    "\n",
    "#Extracting the HTML file of each game.\n",
    "def get_html_content(url):\n",
    "    if url == None or url == \"\":\n",
    "        return 0\n",
    "    else:\n",
    "        response = requests.get(url)\n",
    "        res = response.content\n",
    "        soup_obj = BeautifulSoup(res, 'html.parser')\n",
    "        # returns the html text-content of the page\n",
    "        return soup_obj\n",
    "    \n",
    "#Extracting achievments' game link\n",
    "def achievment_link(html):\n",
    "    global general_list_achievments_num\n",
    "    global general_list_achievments_game_names\n",
    "    global general_list_achievments_grades\n",
    "    achievments_game_link = html.find('a', class_='communitylink_achievement communitylink_achivement_plusmore')\n",
    "    achievments_game_link2 = achievments_game_link[\"href\"]\n",
    "    if achievments_game_link == None:\n",
    "        general_list_achievments_num.append(None)\n",
    "        general_list_achievments_names.append(None)\n",
    "        general_list_achievments_grades.append(None)\n",
    "        print(\"general_list_achievments_1\")\n",
    "        return None\n",
    "    else:\n",
    "        return achievments_game_link2\n",
    "\n",
    "# Scraping the Achivment data of each game\n",
    "def achievment_data(achievments_game_link):\n",
    "    # achievments' game link:\n",
    "    \n",
    "    global general_list_achievments_num\n",
    "    global general_list_achievments_game_names\n",
    "    global general_list_achievments_grades\n",
    "    \n",
    "    html = requests.get(achievments_game_link)\n",
    "    html_page = BeautifulSoup(html.content, 'html.parser')\n",
    "    \n",
    "    ####\n",
    "    #Number of Achievments:\n",
    "    if (html_page.find('span', class_ = 'wt')) == None:\n",
    "        general_list_achievments_num.append(None)\n",
    "        general_list_achievments_names.append(None)\n",
    "        general_list_achievments_grades.append(None)\n",
    "        print(\"general_list_achievments_2\")\n",
    "        return None\n",
    "    achievments_num = int(html_page.find('span', class_ = 'wt').get_text())\n",
    "    general_list_achievments_num.append(achievments_num)\n",
    "    \n",
    "    #list of achiements values (grades):\n",
    "    achievments_game_percents = []\n",
    "    achievments_percents = html_page.findAll('div', class_ = 'achievePercent')\n",
    "    for achievment_percent in achievments_percents:\n",
    "        achievments_game_percents.append(float(achievment_percent.get_text().strip('%')))\n",
    "    achievments_game_avg = sum(achievments_game_percents) / len(achievments_game_percents)\n",
    "    general_list_achievments_grades.append(achievments_game_avg)\n",
    "    \n",
    "#Scraping all the relevant information of each game.\n",
    "def scrap_data(category):\n",
    "    global general_list_names\n",
    "    global general_list_genres_by_site\n",
    "    global general_list_languages\n",
    "    global general_list_release_date\n",
    "    global general_list_developer\n",
    "    global general_list_price\n",
    "    global general_list_tags\n",
    "    global general_list_content_description\n",
    "    global general_list_reviwes_all\n",
    "    global general_list_reviwes_positive\n",
    "    global general_list_reviwes_nagitive\n",
    "    global general_list_achievments_num\n",
    "    global general_list_achievments_names\n",
    "    global general_list_achievments_grades\n",
    "    \n",
    "    #condition to check if page does not exist\n",
    "    basic_info = category.find(class_='glance_ctn')\n",
    "    release_date = basic_info.find(class_='release_date')\n",
    "    if release_date == None:\n",
    "        print(\"None!\")\n",
    "        return 0\n",
    "        \n",
    "    #category = BeautifulSoup(url.content, 'html.parser')\n",
    "    # 1 name\n",
    "    name = category.find(id='appHubAppName').text\n",
    "    general_list_names.append(name)\n",
    "\n",
    "    # 2 genres defined by site:\n",
    "    genres_by_site = soup_obj.find('div', class_='details_block')\n",
    "    genres_by_site2 = genres_by_site.find_all('a')\n",
    "    genres_by_site_to_list = []\n",
    "    for genres_by_site3 in genres_by_site2:\n",
    "        genres_by_site_to_list.append(genres_by_site3.get_text())\n",
    "    general_list_genres_by_site.append(genres_by_site_to_list)\n",
    "\n",
    "    # 3 Scraping languages of each game\n",
    "    lang_table = soup_obj.find(id='languageTable')\n",
    "    lang_names2 = lang_table.findAll('td', class_=\"ellipsis\")\n",
    "    lang_to_list = []\n",
    "    for lang_names3 in lang_names2:\n",
    "        cleaned_lang = lang_names3.text.strip().replace('\\t', '')\n",
    "        lang_to_list.append(cleaned_lang)\n",
    "    general_list_languages.append(lang_to_list)\n",
    "\n",
    "    # 4 release_date\n",
    "    basic_info = category.find(class_='glance_ctn')\n",
    "    release_date = basic_info.find(class_='release_date')\n",
    "    date = release_date.find(class_='date')\n",
    "    general_list_release_date.append(date)\n",
    "\n",
    "    # 5 developer's name:\n",
    "    developer_info = basic_info.find('div', class_='dev_row')\n",
    "    if developer_info != None:\n",
    "        dev_name = developer_info.find('a').text\n",
    "        general_list_developer.append(dev_name)\n",
    "    else:\n",
    "        general_list_developer.append(None)\n",
    "\n",
    "    # 6 tags for this product:\n",
    "    user_define_tags2 = soup_obj.findAll('div', class_='glance_tags popular_tags')\n",
    "    for user_define_tags3 in user_define_tags2:\n",
    "        user_define_tags4 = user_define_tags3.text.strip().replace('\\t', '')\n",
    "        tags_list = user_define_tags4.split('\\r\\n')\n",
    "        tags_to_be_list = []\n",
    "        for tag in tags_list:\n",
    "            tags_to_be_list.append(tag.strip())\n",
    "        general_list_tags.append(tags_to_be_list)\n",
    "        \n",
    "    # reviews:\n",
    "    reviews = category.find('div', class_='user_reviews_filter_menu_flyout_content')\n",
    "    positive = reviews.findAll('span', class_='user_reviews_count')\n",
    "\n",
    "    # 8 all reviews:\n",
    "    all_reiviews = int((positive[0].get_text()).replace('(', '').replace(')', '').replace(',', ''))\n",
    "    general_list_reviwes_all.append(all_reiviews)\n",
    "    \n",
    "    # 9 positive reviews:\n",
    "    positive_reiviews = int((positive[1].get_text()).replace('(', '').replace(')', '').replace(',', ''))\n",
    "    general_list_reviwes_positive.append(positive_reiviews)\n",
    "    \n",
    "    # 10 positive reviews:\n",
    "    negative_reiviews = int((positive[2].get_text()).replace('(', '').replace(')', '').replace(',', ''))\n",
    "    general_list_reviwes_nagitive.append(negative_reiviews)\n",
    "    \n",
    "    # 11 CONTENT DESCRIPTION:\n",
    "    content_description2 = category.find('div', id='game_area_content_descriptors')\n",
    "    if content_description2 != None:\n",
    "        content_description = content_description2.find('i').text\n",
    "        #content_description = re.search(\"w\\+\",content_description_suorce)\n",
    "    else:\n",
    "        content_description = None\n",
    "    general_list_content_description.append(content_description)\n",
    "    \n",
    "    if (category.find('a', class_='communitylink_achievement communitylink_achivement_plusmore')) != None:\n",
    "        #finding the achiements' link:\n",
    "        achievments_game_link = achievment_link(category)\n",
    "\n",
    "        #finding the achiements' values:\n",
    "        achievment_data(achievments_game_link)\n",
    "    else:\n",
    "        general_list_achievments_num.append(None)\n",
    "        general_list_achievments_names.append(None)\n",
    "        general_list_achievments_grades.append(None)\n"
   ]
  },
  {
   "cell_type": "code",
   "execution_count": 835,
   "id": "e30fd661",
   "metadata": {},
   "outputs": [],
   "source": [
    "#List of all the categories.\n",
    "dic_categories = [\"action\", \"hack_and_slash\", \"shmup\", \"rpg\", \"strategy\",\n",
    "                  \"tower_defense\", \"adventure\", \"casual\", \"hidden_object\",\n",
    "                    \"metroidvania\", \"story_rich\", \"visual_novel\",\n",
    "                    \"simulation\", \"sports\", \"racing\"]\n"
   ]
  },
  {
   "cell_type": "markdown",
   "id": "b654a860",
   "metadata": {},
   "source": [
    "#####################\n",
    "#  The big loop itself:\n",
    "####################"
   ]
  },
  {
   "cell_type": "code",
   "execution_count": 836,
   "id": "3be4159b",
   "metadata": {},
   "outputs": [
    {
     "ename": "KeyboardInterrupt",
     "evalue": "",
     "output_type": "error",
     "traceback": [
      "\u001b[1;31m---------------------------------------------------------------------------\u001b[0m",
      "\u001b[1;31mKeyboardInterrupt\u001b[0m                         Traceback (most recent call last)",
      "\u001b[1;32m~\\AppData\\Local\\Temp\\ipykernel_4224\\2159288088.py\u001b[0m in \u001b[0;36m<module>\u001b[1;34m\u001b[0m\n\u001b[0;32m      3\u001b[0m \u001b[1;31m####################\u001b[0m\u001b[1;33m\u001b[0m\u001b[1;33m\u001b[0m\u001b[0m\n\u001b[0;32m      4\u001b[0m \u001b[1;32mfor\u001b[0m \u001b[0mcat\u001b[0m \u001b[1;32min\u001b[0m \u001b[0mdic_categories\u001b[0m\u001b[1;33m:\u001b[0m\u001b[1;33m\u001b[0m\u001b[1;33m\u001b[0m\u001b[0m\n\u001b[1;32m----> 5\u001b[1;33m     \u001b[0mlinks_list_inside\u001b[0m \u001b[1;33m=\u001b[0m \u001b[0mlinks_games_extraction\u001b[0m\u001b[1;33m(\u001b[0m\u001b[0mcat\u001b[0m\u001b[1;33m)\u001b[0m\u001b[1;33m\u001b[0m\u001b[1;33m\u001b[0m\u001b[0m\n\u001b[0m\u001b[0;32m      6\u001b[0m     \u001b[1;32mfor\u001b[0m \u001b[0mlink\u001b[0m \u001b[1;32min\u001b[0m \u001b[0mlinks_list_inside\u001b[0m\u001b[1;33m:\u001b[0m\u001b[1;33m\u001b[0m\u001b[1;33m\u001b[0m\u001b[0m\n\u001b[0;32m      7\u001b[0m         \u001b[0mprint\u001b[0m\u001b[1;33m(\u001b[0m\u001b[0mlink\u001b[0m\u001b[1;33m)\u001b[0m\u001b[1;33m\u001b[0m\u001b[1;33m\u001b[0m\u001b[0m\n",
      "\u001b[1;32m~\\AppData\\Local\\Temp\\ipykernel_4224\\2141054157.py\u001b[0m in \u001b[0;36mlinks_games_extraction\u001b[1;34m(category)\u001b[0m\n\u001b[0;32m     21\u001b[0m     \u001b[1;32mfor\u001b[0m \u001b[0mpage\u001b[0m \u001b[1;32min\u001b[0m \u001b[0mrange\u001b[0m\u001b[1;33m(\u001b[0m\u001b[1;36m2000\u001b[0m\u001b[1;33m)\u001b[0m\u001b[1;33m:\u001b[0m  \u001b[1;31m# <-- increase number of pages here\u001b[0m\u001b[1;33m\u001b[0m\u001b[1;33m\u001b[0m\u001b[0m\n\u001b[0;32m     22\u001b[0m         \u001b[0mparams\u001b[0m\u001b[1;33m[\u001b[0m\u001b[1;34m\"start\"\u001b[0m\u001b[1;33m]\u001b[0m \u001b[1;33m=\u001b[0m \u001b[0mpage\u001b[0m\u001b[1;33m\u001b[0m\u001b[1;33m\u001b[0m\u001b[0m\n\u001b[1;32m---> 23\u001b[1;33m         \u001b[0mdata\u001b[0m \u001b[1;33m=\u001b[0m \u001b[0mrequests\u001b[0m\u001b[1;33m.\u001b[0m\u001b[0mget\u001b[0m\u001b[1;33m(\u001b[0m\u001b[0murl\u001b[0m\u001b[1;33m,\u001b[0m \u001b[0mparams\u001b[0m\u001b[1;33m=\u001b[0m\u001b[0mparams\u001b[0m\u001b[1;33m)\u001b[0m\u001b[1;33m.\u001b[0m\u001b[0mjson\u001b[0m\u001b[1;33m(\u001b[0m\u001b[1;33m)\u001b[0m\u001b[1;33m\u001b[0m\u001b[1;33m\u001b[0m\u001b[0m\n\u001b[0m\u001b[0;32m     24\u001b[0m         \u001b[0msoup\u001b[0m \u001b[1;33m=\u001b[0m \u001b[0mBeautifulSoup\u001b[0m\u001b[1;33m(\u001b[0m\u001b[0mdata\u001b[0m\u001b[1;33m[\u001b[0m\u001b[1;34m\"results_html\"\u001b[0m\u001b[1;33m]\u001b[0m\u001b[1;33m,\u001b[0m \u001b[1;34m\"html.parser\"\u001b[0m\u001b[1;33m)\u001b[0m\u001b[1;33m\u001b[0m\u001b[1;33m\u001b[0m\u001b[0m\n\u001b[0;32m     25\u001b[0m         \u001b[0mlink_to_game\u001b[0m \u001b[1;33m=\u001b[0m \u001b[0msoup\u001b[0m\u001b[1;33m.\u001b[0m\u001b[0mfind_all\u001b[0m\u001b[1;33m(\u001b[0m\u001b[1;34m'a'\u001b[0m\u001b[1;33m,\u001b[0m \u001b[0mclass_\u001b[0m\u001b[1;33m=\u001b[0m\u001b[1;34m\"tab_item\"\u001b[0m\u001b[1;33m)\u001b[0m\u001b[1;33m\u001b[0m\u001b[1;33m\u001b[0m\u001b[0m\n",
      "\u001b[1;32m~\\anaconda3\\lib\\site-packages\\requests\\api.py\u001b[0m in \u001b[0;36mget\u001b[1;34m(url, params, **kwargs)\u001b[0m\n\u001b[0;32m     71\u001b[0m     \"\"\"\n\u001b[0;32m     72\u001b[0m \u001b[1;33m\u001b[0m\u001b[0m\n\u001b[1;32m---> 73\u001b[1;33m     \u001b[1;32mreturn\u001b[0m \u001b[0mrequest\u001b[0m\u001b[1;33m(\u001b[0m\u001b[1;34m\"get\"\u001b[0m\u001b[1;33m,\u001b[0m \u001b[0murl\u001b[0m\u001b[1;33m,\u001b[0m \u001b[0mparams\u001b[0m\u001b[1;33m=\u001b[0m\u001b[0mparams\u001b[0m\u001b[1;33m,\u001b[0m \u001b[1;33m**\u001b[0m\u001b[0mkwargs\u001b[0m\u001b[1;33m)\u001b[0m\u001b[1;33m\u001b[0m\u001b[1;33m\u001b[0m\u001b[0m\n\u001b[0m\u001b[0;32m     74\u001b[0m \u001b[1;33m\u001b[0m\u001b[0m\n\u001b[0;32m     75\u001b[0m \u001b[1;33m\u001b[0m\u001b[0m\n",
      "\u001b[1;32m~\\anaconda3\\lib\\site-packages\\requests\\api.py\u001b[0m in \u001b[0;36mrequest\u001b[1;34m(method, url, **kwargs)\u001b[0m\n\u001b[0;32m     57\u001b[0m     \u001b[1;31m# cases, and look like a memory leak in others.\u001b[0m\u001b[1;33m\u001b[0m\u001b[1;33m\u001b[0m\u001b[0m\n\u001b[0;32m     58\u001b[0m     \u001b[1;32mwith\u001b[0m \u001b[0msessions\u001b[0m\u001b[1;33m.\u001b[0m\u001b[0mSession\u001b[0m\u001b[1;33m(\u001b[0m\u001b[1;33m)\u001b[0m \u001b[1;32mas\u001b[0m \u001b[0msession\u001b[0m\u001b[1;33m:\u001b[0m\u001b[1;33m\u001b[0m\u001b[1;33m\u001b[0m\u001b[0m\n\u001b[1;32m---> 59\u001b[1;33m         \u001b[1;32mreturn\u001b[0m \u001b[0msession\u001b[0m\u001b[1;33m.\u001b[0m\u001b[0mrequest\u001b[0m\u001b[1;33m(\u001b[0m\u001b[0mmethod\u001b[0m\u001b[1;33m=\u001b[0m\u001b[0mmethod\u001b[0m\u001b[1;33m,\u001b[0m \u001b[0murl\u001b[0m\u001b[1;33m=\u001b[0m\u001b[0murl\u001b[0m\u001b[1;33m,\u001b[0m \u001b[1;33m**\u001b[0m\u001b[0mkwargs\u001b[0m\u001b[1;33m)\u001b[0m\u001b[1;33m\u001b[0m\u001b[1;33m\u001b[0m\u001b[0m\n\u001b[0m\u001b[0;32m     60\u001b[0m \u001b[1;33m\u001b[0m\u001b[0m\n\u001b[0;32m     61\u001b[0m \u001b[1;33m\u001b[0m\u001b[0m\n",
      "\u001b[1;32m~\\anaconda3\\lib\\site-packages\\requests\\sessions.py\u001b[0m in \u001b[0;36mrequest\u001b[1;34m(self, method, url, params, data, headers, cookies, files, auth, timeout, allow_redirects, proxies, hooks, stream, verify, cert, json)\u001b[0m\n\u001b[0;32m    585\u001b[0m         }\n\u001b[0;32m    586\u001b[0m         \u001b[0msend_kwargs\u001b[0m\u001b[1;33m.\u001b[0m\u001b[0mupdate\u001b[0m\u001b[1;33m(\u001b[0m\u001b[0msettings\u001b[0m\u001b[1;33m)\u001b[0m\u001b[1;33m\u001b[0m\u001b[1;33m\u001b[0m\u001b[0m\n\u001b[1;32m--> 587\u001b[1;33m         \u001b[0mresp\u001b[0m \u001b[1;33m=\u001b[0m \u001b[0mself\u001b[0m\u001b[1;33m.\u001b[0m\u001b[0msend\u001b[0m\u001b[1;33m(\u001b[0m\u001b[0mprep\u001b[0m\u001b[1;33m,\u001b[0m \u001b[1;33m**\u001b[0m\u001b[0msend_kwargs\u001b[0m\u001b[1;33m)\u001b[0m\u001b[1;33m\u001b[0m\u001b[1;33m\u001b[0m\u001b[0m\n\u001b[0m\u001b[0;32m    588\u001b[0m \u001b[1;33m\u001b[0m\u001b[0m\n\u001b[0;32m    589\u001b[0m         \u001b[1;32mreturn\u001b[0m \u001b[0mresp\u001b[0m\u001b[1;33m\u001b[0m\u001b[1;33m\u001b[0m\u001b[0m\n",
      "\u001b[1;32m~\\anaconda3\\lib\\site-packages\\requests\\sessions.py\u001b[0m in \u001b[0;36msend\u001b[1;34m(self, request, **kwargs)\u001b[0m\n\u001b[0;32m    699\u001b[0m \u001b[1;33m\u001b[0m\u001b[0m\n\u001b[0;32m    700\u001b[0m         \u001b[1;31m# Send the request\u001b[0m\u001b[1;33m\u001b[0m\u001b[1;33m\u001b[0m\u001b[0m\n\u001b[1;32m--> 701\u001b[1;33m         \u001b[0mr\u001b[0m \u001b[1;33m=\u001b[0m \u001b[0madapter\u001b[0m\u001b[1;33m.\u001b[0m\u001b[0msend\u001b[0m\u001b[1;33m(\u001b[0m\u001b[0mrequest\u001b[0m\u001b[1;33m,\u001b[0m \u001b[1;33m**\u001b[0m\u001b[0mkwargs\u001b[0m\u001b[1;33m)\u001b[0m\u001b[1;33m\u001b[0m\u001b[1;33m\u001b[0m\u001b[0m\n\u001b[0m\u001b[0;32m    702\u001b[0m \u001b[1;33m\u001b[0m\u001b[0m\n\u001b[0;32m    703\u001b[0m         \u001b[1;31m# Total elapsed time of the request (approximately)\u001b[0m\u001b[1;33m\u001b[0m\u001b[1;33m\u001b[0m\u001b[0m\n",
      "\u001b[1;32m~\\anaconda3\\lib\\site-packages\\requests\\adapters.py\u001b[0m in \u001b[0;36msend\u001b[1;34m(self, request, stream, timeout, verify, cert, proxies)\u001b[0m\n\u001b[0;32m    487\u001b[0m         \u001b[1;32mtry\u001b[0m\u001b[1;33m:\u001b[0m\u001b[1;33m\u001b[0m\u001b[1;33m\u001b[0m\u001b[0m\n\u001b[0;32m    488\u001b[0m             \u001b[1;32mif\u001b[0m \u001b[1;32mnot\u001b[0m \u001b[0mchunked\u001b[0m\u001b[1;33m:\u001b[0m\u001b[1;33m\u001b[0m\u001b[1;33m\u001b[0m\u001b[0m\n\u001b[1;32m--> 489\u001b[1;33m                 resp = conn.urlopen(\n\u001b[0m\u001b[0;32m    490\u001b[0m                     \u001b[0mmethod\u001b[0m\u001b[1;33m=\u001b[0m\u001b[0mrequest\u001b[0m\u001b[1;33m.\u001b[0m\u001b[0mmethod\u001b[0m\u001b[1;33m,\u001b[0m\u001b[1;33m\u001b[0m\u001b[1;33m\u001b[0m\u001b[0m\n\u001b[0;32m    491\u001b[0m                     \u001b[0murl\u001b[0m\u001b[1;33m=\u001b[0m\u001b[0murl\u001b[0m\u001b[1;33m,\u001b[0m\u001b[1;33m\u001b[0m\u001b[1;33m\u001b[0m\u001b[0m\n",
      "\u001b[1;32m~\\anaconda3\\lib\\site-packages\\urllib3\\connectionpool.py\u001b[0m in \u001b[0;36murlopen\u001b[1;34m(self, method, url, body, headers, retries, redirect, assert_same_host, timeout, pool_timeout, release_conn, chunked, body_pos, **response_kw)\u001b[0m\n\u001b[0;32m    701\u001b[0m \u001b[1;33m\u001b[0m\u001b[0m\n\u001b[0;32m    702\u001b[0m             \u001b[1;31m# Make the request on the httplib connection object.\u001b[0m\u001b[1;33m\u001b[0m\u001b[1;33m\u001b[0m\u001b[0m\n\u001b[1;32m--> 703\u001b[1;33m             httplib_response = self._make_request(\n\u001b[0m\u001b[0;32m    704\u001b[0m                 \u001b[0mconn\u001b[0m\u001b[1;33m,\u001b[0m\u001b[1;33m\u001b[0m\u001b[1;33m\u001b[0m\u001b[0m\n\u001b[0;32m    705\u001b[0m                 \u001b[0mmethod\u001b[0m\u001b[1;33m,\u001b[0m\u001b[1;33m\u001b[0m\u001b[1;33m\u001b[0m\u001b[0m\n",
      "\u001b[1;32m~\\anaconda3\\lib\\site-packages\\urllib3\\connectionpool.py\u001b[0m in \u001b[0;36m_make_request\u001b[1;34m(self, conn, method, url, timeout, chunked, **httplib_request_kw)\u001b[0m\n\u001b[0;32m    447\u001b[0m                     \u001b[1;31m# Python 3 (including for exceptions like SystemExit).\u001b[0m\u001b[1;33m\u001b[0m\u001b[1;33m\u001b[0m\u001b[0m\n\u001b[0;32m    448\u001b[0m                     \u001b[1;31m# Otherwise it looks like a bug in the code.\u001b[0m\u001b[1;33m\u001b[0m\u001b[1;33m\u001b[0m\u001b[0m\n\u001b[1;32m--> 449\u001b[1;33m                     \u001b[0msix\u001b[0m\u001b[1;33m.\u001b[0m\u001b[0mraise_from\u001b[0m\u001b[1;33m(\u001b[0m\u001b[0me\u001b[0m\u001b[1;33m,\u001b[0m \u001b[1;32mNone\u001b[0m\u001b[1;33m)\u001b[0m\u001b[1;33m\u001b[0m\u001b[1;33m\u001b[0m\u001b[0m\n\u001b[0m\u001b[0;32m    450\u001b[0m         \u001b[1;32mexcept\u001b[0m \u001b[1;33m(\u001b[0m\u001b[0mSocketTimeout\u001b[0m\u001b[1;33m,\u001b[0m \u001b[0mBaseSSLError\u001b[0m\u001b[1;33m,\u001b[0m \u001b[0mSocketError\u001b[0m\u001b[1;33m)\u001b[0m \u001b[1;32mas\u001b[0m \u001b[0me\u001b[0m\u001b[1;33m:\u001b[0m\u001b[1;33m\u001b[0m\u001b[1;33m\u001b[0m\u001b[0m\n\u001b[0;32m    451\u001b[0m             \u001b[0mself\u001b[0m\u001b[1;33m.\u001b[0m\u001b[0m_raise_timeout\u001b[0m\u001b[1;33m(\u001b[0m\u001b[0merr\u001b[0m\u001b[1;33m=\u001b[0m\u001b[0me\u001b[0m\u001b[1;33m,\u001b[0m \u001b[0murl\u001b[0m\u001b[1;33m=\u001b[0m\u001b[0murl\u001b[0m\u001b[1;33m,\u001b[0m \u001b[0mtimeout_value\u001b[0m\u001b[1;33m=\u001b[0m\u001b[0mread_timeout\u001b[0m\u001b[1;33m)\u001b[0m\u001b[1;33m\u001b[0m\u001b[1;33m\u001b[0m\u001b[0m\n",
      "\u001b[1;32m~\\anaconda3\\lib\\site-packages\\urllib3\\packages\\six.py\u001b[0m in \u001b[0;36mraise_from\u001b[1;34m(value, from_value)\u001b[0m\n",
      "\u001b[1;32m~\\anaconda3\\lib\\site-packages\\urllib3\\connectionpool.py\u001b[0m in \u001b[0;36m_make_request\u001b[1;34m(self, conn, method, url, timeout, chunked, **httplib_request_kw)\u001b[0m\n\u001b[0;32m    442\u001b[0m                 \u001b[1;31m# Python 3\u001b[0m\u001b[1;33m\u001b[0m\u001b[1;33m\u001b[0m\u001b[0m\n\u001b[0;32m    443\u001b[0m                 \u001b[1;32mtry\u001b[0m\u001b[1;33m:\u001b[0m\u001b[1;33m\u001b[0m\u001b[1;33m\u001b[0m\u001b[0m\n\u001b[1;32m--> 444\u001b[1;33m                     \u001b[0mhttplib_response\u001b[0m \u001b[1;33m=\u001b[0m \u001b[0mconn\u001b[0m\u001b[1;33m.\u001b[0m\u001b[0mgetresponse\u001b[0m\u001b[1;33m(\u001b[0m\u001b[1;33m)\u001b[0m\u001b[1;33m\u001b[0m\u001b[1;33m\u001b[0m\u001b[0m\n\u001b[0m\u001b[0;32m    445\u001b[0m                 \u001b[1;32mexcept\u001b[0m \u001b[0mBaseException\u001b[0m \u001b[1;32mas\u001b[0m \u001b[0me\u001b[0m\u001b[1;33m:\u001b[0m\u001b[1;33m\u001b[0m\u001b[1;33m\u001b[0m\u001b[0m\n\u001b[0;32m    446\u001b[0m                     \u001b[1;31m# Remove the TypeError from the exception chain in\u001b[0m\u001b[1;33m\u001b[0m\u001b[1;33m\u001b[0m\u001b[0m\n",
      "\u001b[1;32m~\\anaconda3\\lib\\http\\client.py\u001b[0m in \u001b[0;36mgetresponse\u001b[1;34m(self)\u001b[0m\n\u001b[0;32m   1375\u001b[0m         \u001b[1;32mtry\u001b[0m\u001b[1;33m:\u001b[0m\u001b[1;33m\u001b[0m\u001b[1;33m\u001b[0m\u001b[0m\n\u001b[0;32m   1376\u001b[0m             \u001b[1;32mtry\u001b[0m\u001b[1;33m:\u001b[0m\u001b[1;33m\u001b[0m\u001b[1;33m\u001b[0m\u001b[0m\n\u001b[1;32m-> 1377\u001b[1;33m                 \u001b[0mresponse\u001b[0m\u001b[1;33m.\u001b[0m\u001b[0mbegin\u001b[0m\u001b[1;33m(\u001b[0m\u001b[1;33m)\u001b[0m\u001b[1;33m\u001b[0m\u001b[1;33m\u001b[0m\u001b[0m\n\u001b[0m\u001b[0;32m   1378\u001b[0m             \u001b[1;32mexcept\u001b[0m \u001b[0mConnectionError\u001b[0m\u001b[1;33m:\u001b[0m\u001b[1;33m\u001b[0m\u001b[1;33m\u001b[0m\u001b[0m\n\u001b[0;32m   1379\u001b[0m                 \u001b[0mself\u001b[0m\u001b[1;33m.\u001b[0m\u001b[0mclose\u001b[0m\u001b[1;33m(\u001b[0m\u001b[1;33m)\u001b[0m\u001b[1;33m\u001b[0m\u001b[1;33m\u001b[0m\u001b[0m\n",
      "\u001b[1;32m~\\anaconda3\\lib\\http\\client.py\u001b[0m in \u001b[0;36mbegin\u001b[1;34m(self)\u001b[0m\n\u001b[0;32m    318\u001b[0m         \u001b[1;31m# read until we get a non-100 response\u001b[0m\u001b[1;33m\u001b[0m\u001b[1;33m\u001b[0m\u001b[0m\n\u001b[0;32m    319\u001b[0m         \u001b[1;32mwhile\u001b[0m \u001b[1;32mTrue\u001b[0m\u001b[1;33m:\u001b[0m\u001b[1;33m\u001b[0m\u001b[1;33m\u001b[0m\u001b[0m\n\u001b[1;32m--> 320\u001b[1;33m             \u001b[0mversion\u001b[0m\u001b[1;33m,\u001b[0m \u001b[0mstatus\u001b[0m\u001b[1;33m,\u001b[0m \u001b[0mreason\u001b[0m \u001b[1;33m=\u001b[0m \u001b[0mself\u001b[0m\u001b[1;33m.\u001b[0m\u001b[0m_read_status\u001b[0m\u001b[1;33m(\u001b[0m\u001b[1;33m)\u001b[0m\u001b[1;33m\u001b[0m\u001b[1;33m\u001b[0m\u001b[0m\n\u001b[0m\u001b[0;32m    321\u001b[0m             \u001b[1;32mif\u001b[0m \u001b[0mstatus\u001b[0m \u001b[1;33m!=\u001b[0m \u001b[0mCONTINUE\u001b[0m\u001b[1;33m:\u001b[0m\u001b[1;33m\u001b[0m\u001b[1;33m\u001b[0m\u001b[0m\n\u001b[0;32m    322\u001b[0m                 \u001b[1;32mbreak\u001b[0m\u001b[1;33m\u001b[0m\u001b[1;33m\u001b[0m\u001b[0m\n",
      "\u001b[1;32m~\\anaconda3\\lib\\http\\client.py\u001b[0m in \u001b[0;36m_read_status\u001b[1;34m(self)\u001b[0m\n\u001b[0;32m    279\u001b[0m \u001b[1;33m\u001b[0m\u001b[0m\n\u001b[0;32m    280\u001b[0m     \u001b[1;32mdef\u001b[0m \u001b[0m_read_status\u001b[0m\u001b[1;33m(\u001b[0m\u001b[0mself\u001b[0m\u001b[1;33m)\u001b[0m\u001b[1;33m:\u001b[0m\u001b[1;33m\u001b[0m\u001b[1;33m\u001b[0m\u001b[0m\n\u001b[1;32m--> 281\u001b[1;33m         \u001b[0mline\u001b[0m \u001b[1;33m=\u001b[0m \u001b[0mstr\u001b[0m\u001b[1;33m(\u001b[0m\u001b[0mself\u001b[0m\u001b[1;33m.\u001b[0m\u001b[0mfp\u001b[0m\u001b[1;33m.\u001b[0m\u001b[0mreadline\u001b[0m\u001b[1;33m(\u001b[0m\u001b[0m_MAXLINE\u001b[0m \u001b[1;33m+\u001b[0m \u001b[1;36m1\u001b[0m\u001b[1;33m)\u001b[0m\u001b[1;33m,\u001b[0m \u001b[1;34m\"iso-8859-1\"\u001b[0m\u001b[1;33m)\u001b[0m\u001b[1;33m\u001b[0m\u001b[1;33m\u001b[0m\u001b[0m\n\u001b[0m\u001b[0;32m    282\u001b[0m         \u001b[1;32mif\u001b[0m \u001b[0mlen\u001b[0m\u001b[1;33m(\u001b[0m\u001b[0mline\u001b[0m\u001b[1;33m)\u001b[0m \u001b[1;33m>\u001b[0m \u001b[0m_MAXLINE\u001b[0m\u001b[1;33m:\u001b[0m\u001b[1;33m\u001b[0m\u001b[1;33m\u001b[0m\u001b[0m\n\u001b[0;32m    283\u001b[0m             \u001b[1;32mraise\u001b[0m \u001b[0mLineTooLong\u001b[0m\u001b[1;33m(\u001b[0m\u001b[1;34m\"status line\"\u001b[0m\u001b[1;33m)\u001b[0m\u001b[1;33m\u001b[0m\u001b[1;33m\u001b[0m\u001b[0m\n",
      "\u001b[1;32m~\\anaconda3\\lib\\socket.py\u001b[0m in \u001b[0;36mreadinto\u001b[1;34m(self, b)\u001b[0m\n\u001b[0;32m    702\u001b[0m         \u001b[1;32mwhile\u001b[0m \u001b[1;32mTrue\u001b[0m\u001b[1;33m:\u001b[0m\u001b[1;33m\u001b[0m\u001b[1;33m\u001b[0m\u001b[0m\n\u001b[0;32m    703\u001b[0m             \u001b[1;32mtry\u001b[0m\u001b[1;33m:\u001b[0m\u001b[1;33m\u001b[0m\u001b[1;33m\u001b[0m\u001b[0m\n\u001b[1;32m--> 704\u001b[1;33m                 \u001b[1;32mreturn\u001b[0m \u001b[0mself\u001b[0m\u001b[1;33m.\u001b[0m\u001b[0m_sock\u001b[0m\u001b[1;33m.\u001b[0m\u001b[0mrecv_into\u001b[0m\u001b[1;33m(\u001b[0m\u001b[0mb\u001b[0m\u001b[1;33m)\u001b[0m\u001b[1;33m\u001b[0m\u001b[1;33m\u001b[0m\u001b[0m\n\u001b[0m\u001b[0;32m    705\u001b[0m             \u001b[1;32mexcept\u001b[0m \u001b[0mtimeout\u001b[0m\u001b[1;33m:\u001b[0m\u001b[1;33m\u001b[0m\u001b[1;33m\u001b[0m\u001b[0m\n\u001b[0;32m    706\u001b[0m                 \u001b[0mself\u001b[0m\u001b[1;33m.\u001b[0m\u001b[0m_timeout_occurred\u001b[0m \u001b[1;33m=\u001b[0m \u001b[1;32mTrue\u001b[0m\u001b[1;33m\u001b[0m\u001b[1;33m\u001b[0m\u001b[0m\n",
      "\u001b[1;32m~\\anaconda3\\lib\\ssl.py\u001b[0m in \u001b[0;36mrecv_into\u001b[1;34m(self, buffer, nbytes, flags)\u001b[0m\n\u001b[0;32m   1240\u001b[0m                   \u001b[1;34m\"non-zero flags not allowed in calls to recv_into() on %s\"\u001b[0m \u001b[1;33m%\u001b[0m\u001b[1;33m\u001b[0m\u001b[1;33m\u001b[0m\u001b[0m\n\u001b[0;32m   1241\u001b[0m                   self.__class__)\n\u001b[1;32m-> 1242\u001b[1;33m             \u001b[1;32mreturn\u001b[0m \u001b[0mself\u001b[0m\u001b[1;33m.\u001b[0m\u001b[0mread\u001b[0m\u001b[1;33m(\u001b[0m\u001b[0mnbytes\u001b[0m\u001b[1;33m,\u001b[0m \u001b[0mbuffer\u001b[0m\u001b[1;33m)\u001b[0m\u001b[1;33m\u001b[0m\u001b[1;33m\u001b[0m\u001b[0m\n\u001b[0m\u001b[0;32m   1243\u001b[0m         \u001b[1;32melse\u001b[0m\u001b[1;33m:\u001b[0m\u001b[1;33m\u001b[0m\u001b[1;33m\u001b[0m\u001b[0m\n\u001b[0;32m   1244\u001b[0m             \u001b[1;32mreturn\u001b[0m \u001b[0msuper\u001b[0m\u001b[1;33m(\u001b[0m\u001b[1;33m)\u001b[0m\u001b[1;33m.\u001b[0m\u001b[0mrecv_into\u001b[0m\u001b[1;33m(\u001b[0m\u001b[0mbuffer\u001b[0m\u001b[1;33m,\u001b[0m \u001b[0mnbytes\u001b[0m\u001b[1;33m,\u001b[0m \u001b[0mflags\u001b[0m\u001b[1;33m)\u001b[0m\u001b[1;33m\u001b[0m\u001b[1;33m\u001b[0m\u001b[0m\n",
      "\u001b[1;32m~\\anaconda3\\lib\\ssl.py\u001b[0m in \u001b[0;36mread\u001b[1;34m(self, len, buffer)\u001b[0m\n\u001b[0;32m   1098\u001b[0m         \u001b[1;32mtry\u001b[0m\u001b[1;33m:\u001b[0m\u001b[1;33m\u001b[0m\u001b[1;33m\u001b[0m\u001b[0m\n\u001b[0;32m   1099\u001b[0m             \u001b[1;32mif\u001b[0m \u001b[0mbuffer\u001b[0m \u001b[1;32mis\u001b[0m \u001b[1;32mnot\u001b[0m \u001b[1;32mNone\u001b[0m\u001b[1;33m:\u001b[0m\u001b[1;33m\u001b[0m\u001b[1;33m\u001b[0m\u001b[0m\n\u001b[1;32m-> 1100\u001b[1;33m                 \u001b[1;32mreturn\u001b[0m \u001b[0mself\u001b[0m\u001b[1;33m.\u001b[0m\u001b[0m_sslobj\u001b[0m\u001b[1;33m.\u001b[0m\u001b[0mread\u001b[0m\u001b[1;33m(\u001b[0m\u001b[0mlen\u001b[0m\u001b[1;33m,\u001b[0m \u001b[0mbuffer\u001b[0m\u001b[1;33m)\u001b[0m\u001b[1;33m\u001b[0m\u001b[1;33m\u001b[0m\u001b[0m\n\u001b[0m\u001b[0;32m   1101\u001b[0m             \u001b[1;32melse\u001b[0m\u001b[1;33m:\u001b[0m\u001b[1;33m\u001b[0m\u001b[1;33m\u001b[0m\u001b[0m\n\u001b[0;32m   1102\u001b[0m                 \u001b[1;32mreturn\u001b[0m \u001b[0mself\u001b[0m\u001b[1;33m.\u001b[0m\u001b[0m_sslobj\u001b[0m\u001b[1;33m.\u001b[0m\u001b[0mread\u001b[0m\u001b[1;33m(\u001b[0m\u001b[0mlen\u001b[0m\u001b[1;33m)\u001b[0m\u001b[1;33m\u001b[0m\u001b[1;33m\u001b[0m\u001b[0m\n",
      "\u001b[1;31mKeyboardInterrupt\u001b[0m: "
     ]
    }
   ],
   "source": [
    "#####################\n",
    "#The big loop itself:\n",
    "####################\n",
    "for cat in dic_categories:\n",
    "    links_list_inside = links_games_extraction(cat)\n",
    "    for link in links_list_inside:\n",
    "        print(link)\n",
    "        soup_obj = get_html_content(link)\n",
    "        scrap_data(soup_obj)"
   ]
  },
  {
   "cell_type": "code",
   "execution_count": null,
   "id": "649044c0",
   "metadata": {},
   "outputs": [],
   "source": [
    "#Creating Data Frame from all the lists.\n",
    "list_to_df = {'Game_names': general_list_names, 'Genres_by_site': general_list_genres_by_site,\n",
    "              'Game_developer': general_list_developer, 'Game_tags': general_list_tags,\n",
    "             'Game_languages': general_list_languages, 'Game_content_description': general_list_content_description,\n",
    "                'Game__release_date': general_list_release_date, 'Game_reviwes_all': general_list_reviwes_all,\n",
    "             'Game_reviwes_positive': general_list_reviwes_positive, 'Game_reviwes_nagitive': general_list_reviwes_nagitive,\n",
    "              'Game_achievments_num': general_list_achievments_num,\n",
    "              'Game_achievments_grades': general_list_achievments_grades\n",
    "             }"
   ]
  },
  {
   "cell_type": "code",
   "execution_count": null,
   "id": "bcbafe3c",
   "metadata": {},
   "outputs": [],
   "source": [
    "#Checking the lenght of all the lists.  \n",
    "print(\"general_list_names: \", len(general_list_names))\n",
    "print(\"general_list_genres_by_site: \", len(general_list_genres_by_site))\n",
    "print(\"general_list_developer: \", len(general_list_developer))\n",
    "print(\"general_list_tags: \", len(general_list_tags))\n",
    "print(\"general_list_languages: \", len(general_list_languages))\n",
    "print(\"general_list_content_description: \", len(general_list_content_description))\n",
    "print(\"general_list_reviwes_all: \", len(general_list_reviwes_all))\n",
    "print(\"general_list_reviwes_positive: \", len(general_list_reviwes_positive))\n",
    "print(\"general_list_reviwes_nagitive: \", len(general_list_reviwes_nagitive))  \n",
    "print(\"general_list_achievments_num: \", len(general_list_achievments_num))\n",
    "print(\"general_list_achievments_grades: \", len(general_list_achievments_grades))"
   ]
  },
  {
   "cell_type": "code",
   "execution_count": null,
   "id": "d0867fae",
   "metadata": {},
   "outputs": [],
   "source": [
    "df = pd.DataFrame(list_to_df)\n",
    "df.shape"
   ]
  },
  {
   "cell_type": "code",
   "execution_count": null,
   "id": "edd2aaaf",
   "metadata": {},
   "outputs": [],
   "source": [
    "df.to_csv('./games_dataset_final.csv', index=False)"
   ]
  },
  {
   "cell_type": "markdown",
   "id": "9ab217b1",
   "metadata": {},
   "source": [
    "# End of crawling!!!"
   ]
  },
  {
   "cell_type": "markdown",
   "id": "4f38da7f",
   "metadata": {},
   "source": [
    "#  Data Handling part"
   ]
  },
  {
   "cell_type": "code",
   "execution_count": 837,
   "id": "f21eabc4",
   "metadata": {},
   "outputs": [],
   "source": [
    "import pandas as pd\n",
    "import numpy as np\n",
    "import matplotlib.pyplot as plt\n",
    "from sklearn.preprocessing import MinMaxScaler\n",
    "from sklearn.feature_selection import SelectKBest, f_regression\n",
    "from sklearn.model_selection import train_test_split\n",
    "from sklearn.preprocessing import MultiLabelBinarizer\n",
    "from sklearn.linear_model import LogisticRegression\n",
    "from sklearn.linear_model import LinearRegression\n",
    "import ast\n",
    "import re\n",
    "from sklearn.metrics import accuracy_score\n",
    "from sklearn.metrics import f1_score\n",
    "from sklearn import linear_model\n",
    "from sklearn.metrics import mean_absolute_error\n",
    "import datetime\n",
    "from datetime import date\n",
    "from datetime import datetime, date\n"
   ]
  },
  {
   "cell_type": "code",
   "execution_count": 838,
   "id": "22cb9db0",
   "metadata": {},
   "outputs": [],
   "source": [
    "df = pd.read_csv('games_dataset_final.csv')\n",
    "df_copy = df.copy()"
   ]
  },
  {
   "cell_type": "code",
   "execution_count": 839,
   "id": "934b26c5",
   "metadata": {},
   "outputs": [
    {
     "data": {
      "text/plain": [
       "(11122, 12)"
      ]
     },
     "execution_count": 839,
     "metadata": {},
     "output_type": "execute_result"
    }
   ],
   "source": [
    "df_copy.shape"
   ]
  },
  {
   "cell_type": "markdown",
   "id": "c89b4a74",
   "metadata": {},
   "source": [
    "Functions for data cleaning"
   ]
  },
  {
   "cell_type": "code",
   "execution_count": 840,
   "id": "17d95193",
   "metadata": {},
   "outputs": [],
   "source": [
    "def convert_string_to_list(df, col_name):\n",
    "    df[col_name] = df[col_name].apply(ast.literal_eval)"
   ]
  },
  {
   "cell_type": "code",
   "execution_count": 841,
   "id": "a4464d7e",
   "metadata": {},
   "outputs": [],
   "source": [
    "def clean_html_tags(text):\n",
    "    soup = BeautifulSoup(text, 'html.parser')\n",
    "    return soup.get_text()"
   ]
  },
  {
   "cell_type": "code",
   "execution_count": 842,
   "id": "bceb981d",
   "metadata": {},
   "outputs": [],
   "source": [
    "def calculate_days(date_str):\n",
    "    date_format = '%d %b, %Y'  # Updated date format in the column\n",
    "    target_date = date(2023, 6, 25)  # Desired date to calculate days until\n",
    "\n",
    "    # Handle the case where the day is missing\n",
    "    if len(date_str.split()) == 2:\n",
    "        date_str += ' 1'\n",
    "        date_format = '%b %Y %d'\n",
    "\n",
    "    date_obj = datetime.strptime(date_str, date_format).date()\n",
    "    days_difference = (target_date - date_obj).days\n",
    "    return days_difference"
   ]
  },
  {
   "cell_type": "markdown",
   "id": "00ca2c19",
   "metadata": {},
   "source": [
    "Filling NA with zero or empty string."
   ]
  },
  {
   "cell_type": "code",
   "execution_count": 843,
   "id": "cab87c9a",
   "metadata": {},
   "outputs": [
    {
     "data": {
      "text/plain": [
       "(11122, 12)"
      ]
     },
     "execution_count": 843,
     "metadata": {},
     "output_type": "execute_result"
    }
   ],
   "source": [
    "df_copy['Game_achievments_num'].fillna(0, inplace=True) # filling Nan with 0\n",
    "df_copy['Game_achievments_grades'].fillna(0, inplace=True) # filling Nan with 0\n",
    "df_copy['Game_content_description'].fillna(\"\", inplace=True) # filling Nan with 0\n",
    "#df_copy['Game_achievments_grades'].fillna(0, inplace=True)\n",
    "df_copy.shape"
   ]
  },
  {
   "cell_type": "code",
   "execution_count": 844,
   "id": "6ae152ef",
   "metadata": {},
   "outputs": [
    {
     "data": {
      "text/plain": [
       "(11122, 12)"
      ]
     },
     "execution_count": 844,
     "metadata": {},
     "output_type": "execute_result"
    }
   ],
   "source": [
    "df_copy.shape"
   ]
  },
  {
   "cell_type": "code",
   "execution_count": 845,
   "id": "0dffdf79",
   "metadata": {},
   "outputs": [
    {
     "data": {
      "text/plain": [
       "Game_names                  0\n",
       "Genres_by_site              0\n",
       "Game_developer              1\n",
       "Game_tags                   0\n",
       "Game_languages              0\n",
       "Game_content_description    0\n",
       "Game__release_date          0\n",
       "Game_reviwes_all            0\n",
       "Game_reviwes_positive       0\n",
       "Game_reviwes_nagitive       0\n",
       "Game_achievments_num        0\n",
       "Game_achievments_grades     0\n",
       "dtype: int64"
      ]
     },
     "execution_count": 845,
     "metadata": {},
     "output_type": "execute_result"
    }
   ],
   "source": [
    "df_copy.isnull().sum()"
   ]
  },
  {
   "cell_type": "markdown",
   "id": "a4910b48",
   "metadata": {},
   "source": [
    "Fixing some of the columns that apears as one big string"
   ]
  },
  {
   "cell_type": "code",
   "execution_count": 846,
   "id": "44c7259d",
   "metadata": {},
   "outputs": [],
   "source": [
    "convert_string_to_list(df_copy, 'Genres_by_site')\n",
    "convert_string_to_list(df_copy, 'Game_languages')\n",
    "#convert_string_to_list(df_copy, 'Game_achievments_names')\n",
    "#convert_string_to_list(df_copy, 'Game_achievments_grades')"
   ]
  },
  {
   "cell_type": "markdown",
   "id": "a3fabe5e",
   "metadata": {},
   "source": [
    "Cheacking for success."
   ]
  },
  {
   "cell_type": "code",
   "execution_count": 847,
   "id": "781069d7",
   "metadata": {},
   "outputs": [
    {
     "name": "stdout",
     "output_type": "stream",
     "text": [
      "Indie\n"
     ]
    },
    {
     "data": {
      "text/plain": [
       "(11122, 12)"
      ]
     },
     "execution_count": 847,
     "metadata": {},
     "output_type": "execute_result"
    }
   ],
   "source": [
    "gn = df_copy.iloc[0,1]\n",
    "print(gn[1])\n",
    "df_copy.shape"
   ]
  },
  {
   "cell_type": "markdown",
   "id": "6e60be70",
   "metadata": {},
   "source": [
    "Counting the number of offensive words in every game description."
   ]
  },
  {
   "cell_type": "code",
   "execution_count": 848,
   "id": "648ba1be",
   "metadata": {},
   "outputs": [],
   "source": [
    "# Define the offensive words\n",
    "offensive_words = ['blood', 'violence', 'alcohol', 'strong language', 'sexual', 'nudity']\n",
    "\n",
    "# Create a regex pattern to match the offensive words\n",
    "pattern = re.compile(r'\\b(?:' + '|'.join(offensive_words) + r')\\b', flags=re.IGNORECASE)\n",
    "\n",
    "# Create a new column \"Offensive_word_count\" with the count of offensive words\n",
    "df_copy['Offensive_word_count'] = df_copy['Game_content_description'].apply(\n",
    "    lambda x: len(set(re.findall(pattern, str(x)))) if pd.notnull(x) else 0\n",
    ")"
   ]
  },
  {
   "cell_type": "code",
   "execution_count": 849,
   "id": "ccef1579",
   "metadata": {},
   "outputs": [
    {
     "data": {
      "text/plain": [
       "(11122, 15)"
      ]
     },
     "execution_count": 849,
     "metadata": {},
     "output_type": "execute_result"
    }
   ],
   "source": [
    "df_copy['Num_of_game_languages'] = df_copy['Game_languages'].apply(lambda x: len(x))\n",
    "df_copy['Num_of_genres_by_site'] = df_copy['Genres_by_site'].apply(lambda x: len(x))\n",
    "df_copy.shape"
   ]
  },
  {
   "cell_type": "code",
   "execution_count": 850,
   "id": "e69415f0",
   "metadata": {},
   "outputs": [
    {
     "data": {
      "text/plain": [
       "(11122, 15)"
      ]
     },
     "execution_count": 850,
     "metadata": {},
     "output_type": "execute_result"
    }
   ],
   "source": [
    "df_copy.shape"
   ]
  },
  {
   "cell_type": "markdown",
   "id": "0bb88d81",
   "metadata": {},
   "source": [
    "Checking for duplicated & delete them."
   ]
  },
  {
   "cell_type": "code",
   "execution_count": 851,
   "id": "28792f23",
   "metadata": {},
   "outputs": [
    {
     "data": {
      "text/plain": [
       "6494"
      ]
     },
     "execution_count": 851,
     "metadata": {},
     "output_type": "execute_result"
    }
   ],
   "source": [
    "df_copy['Game_names'].duplicated().sum()"
   ]
  },
  {
   "cell_type": "code",
   "execution_count": 852,
   "id": "3f0ef2b7",
   "metadata": {},
   "outputs": [
    {
     "data": {
      "text/plain": [
       "(4628, 15)"
      ]
     },
     "execution_count": 852,
     "metadata": {},
     "output_type": "execute_result"
    }
   ],
   "source": [
    "df_copy.drop_duplicates(subset='Game_names', inplace=True)\n",
    "df_copy.shape"
   ]
  },
  {
   "cell_type": "markdown",
   "id": "920edb48",
   "metadata": {},
   "source": [
    "Adding new columns and defining them."
   ]
  },
  {
   "cell_type": "code",
   "execution_count": 853,
   "id": "3cddbae1",
   "metadata": {},
   "outputs": [],
   "source": [
    "df_copy['Game_release_date_cleaned'] = df_copy['Game__release_date'].apply(clean_html_tags)\n",
    "\n",
    "#Adding the percentage of positive review.\n",
    "df_copy['Game_reviwes_positive_percentage'] = (df_copy['Game_reviwes_positive'] / df_copy['Game_reviwes_all']) * 100\n",
    "\n",
    "#Adding the 'Successful_Game' column.\n",
    "df_copy['successful_game'] = ((df_copy['Game_reviwes_positive_percentage'] > 80) & (df_copy['Game_reviwes_all'] > 200000)).astype(int)\n",
    "\n",
    "df_copy['days_until_scraping_day'] = df_copy['Game_release_date_cleaned'].apply(calculate_days)\n",
    "\n",
    "df_copy['reviwes_positive_per_day'] = df_copy['Game_reviwes_positive'] / df_copy['days_until_scraping_day']\n",
    "\n",
    "df_copy['reviwes_all_per_day'] = df_copy['Game_reviwes_all'] / df_copy['days_until_scraping_day']"
   ]
  },
  {
   "cell_type": "code",
   "execution_count": 854,
   "id": "f831f756",
   "metadata": {},
   "outputs": [],
   "source": [
    "#Option to remove outliers.\n",
    "#more than 4000 reviwes per day and less than 50 - remove\n",
    "df_copy = df_copy[(df_copy['reviwes_all_per_day'] <= 4000) & (df_copy['reviwes_all_per_day'] >= 30)]\n",
    "\n",
    "#in order to drop ocunter strike\n",
    "df_copy = df_copy[(df_copy['Game_reviwes_all'] <= 900000)]"
   ]
  },
  {
   "cell_type": "code",
   "execution_count": 893,
   "id": "592b919c",
   "metadata": {},
   "outputs": [
    {
     "data": {
      "text/plain": [
       "count    463.000000\n",
       "mean       0.749187\n",
       "std        2.477892\n",
       "min       -0.378462\n",
       "25%       -0.230580\n",
       "50%        0.000000\n",
       "75%        0.769420\n",
       "max       27.283283\n",
       "Name: reviwes_all_per_day, dtype: float64"
      ]
     },
     "execution_count": 893,
     "metadata": {},
     "output_type": "execute_result"
    }
   ],
   "source": [
    "df_copy['reviwes_all_per_day'].describe()"
   ]
  },
  {
   "cell_type": "code",
   "execution_count": 855,
   "id": "255c18ec",
   "metadata": {},
   "outputs": [
    {
     "data": {
      "text/plain": [
       "(514, 21)"
      ]
     },
     "execution_count": 855,
     "metadata": {},
     "output_type": "execute_result"
    }
   ],
   "source": [
    "df_copy.shape"
   ]
  },
  {
   "cell_type": "markdown",
   "id": "264394fa",
   "metadata": {},
   "source": [
    "Code for deleting outliers"
   ]
  },
  {
   "cell_type": "code",
   "execution_count": 856,
   "id": "92edd924",
   "metadata": {},
   "outputs": [
    {
     "data": {
      "text/plain": [
       "(463, 21)"
      ]
     },
     "execution_count": 856,
     "metadata": {},
     "output_type": "execute_result"
    }
   ],
   "source": [
    "outliers_to_drop = df_copy[(df_copy['Game_reviwes_all'] > 800000)].index\n",
    "outliers_to_drop\n",
    "outliers_to_drop2 = df_copy[(df_copy['Game_reviwes_all'] < 3000)].index\n",
    "outliers_to_drop2\n",
    "df_copy.drop(index=outliers_to_drop, inplace=True)\n",
    "df_copy.drop(index=outliers_to_drop2, inplace=True)\n",
    "df_copy.shape"
   ]
  },
  {
   "cell_type": "code",
   "execution_count": 857,
   "id": "2541d7fb",
   "metadata": {},
   "outputs": [
    {
     "data": {
      "text/plain": [
       "Index(['Game_names', 'Genres_by_site', 'Game_developer', 'Game_tags',\n",
       "       'Game_languages', 'Game_content_description', 'Game__release_date',\n",
       "       'Game_reviwes_all', 'Game_reviwes_positive', 'Game_reviwes_nagitive',\n",
       "       'Game_achievments_num', 'Game_achievments_grades',\n",
       "       'Offensive_word_count', 'Num_of_game_languages',\n",
       "       'Num_of_genres_by_site', 'Game_release_date_cleaned',\n",
       "       'Game_reviwes_positive_percentage', 'successful_game',\n",
       "       'days_until_scraping_day', 'reviwes_positive_per_day',\n",
       "       'reviwes_all_per_day'],\n",
       "      dtype='object')"
      ]
     },
     "execution_count": 857,
     "metadata": {},
     "output_type": "execute_result"
    }
   ],
   "source": [
    "df_copy.columns"
   ]
  },
  {
   "cell_type": "code",
   "execution_count": 858,
   "id": "df4d9b79",
   "metadata": {},
   "outputs": [
    {
     "data": {
      "text/plain": [
       "Game_names                          0\n",
       "Genres_by_site                      0\n",
       "Game_developer                      0\n",
       "Game_tags                           0\n",
       "Game_languages                      0\n",
       "Game_content_description            0\n",
       "Game__release_date                  0\n",
       "Game_reviwes_all                    0\n",
       "Game_reviwes_positive               0\n",
       "Game_reviwes_nagitive               0\n",
       "Game_achievments_num                0\n",
       "Game_achievments_grades             0\n",
       "Offensive_word_count                0\n",
       "Num_of_game_languages               0\n",
       "Num_of_genres_by_site               0\n",
       "Game_release_date_cleaned           0\n",
       "Game_reviwes_positive_percentage    0\n",
       "successful_game                     0\n",
       "days_until_scraping_day             0\n",
       "reviwes_positive_per_day            0\n",
       "reviwes_all_per_day                 0\n",
       "dtype: int64"
      ]
     },
     "execution_count": 858,
     "metadata": {},
     "output_type": "execute_result"
    }
   ],
   "source": [
    "df_copy.isnull().sum()\n"
   ]
  },
  {
   "cell_type": "markdown",
   "id": "ac3221a6",
   "metadata": {},
   "source": [
    "Scaling the relevant data"
   ]
  },
  {
   "cell_type": "code",
   "execution_count": null,
   "id": "9d96dd8c",
   "metadata": {},
   "outputs": [],
   "source": []
  },
  {
   "cell_type": "markdown",
   "id": "b183ef10",
   "metadata": {},
   "source": [
    "More cleaning... Removing unneccessery columns for the ML"
   ]
  },
  {
   "cell_type": "code",
   "execution_count": 859,
   "id": "74b7a65c",
   "metadata": {},
   "outputs": [
    {
     "data": {
      "text/plain": [
       "(463, 17)"
      ]
     },
     "execution_count": 859,
     "metadata": {},
     "output_type": "execute_result"
    }
   ],
   "source": [
    "cols_to_drop = [\"Game_developer\", \"Game_tags\", \"Game_content_description\",\n",
    "                \"Game__release_date\"  ]\n",
    "df_copy = df_copy.drop(cols_to_drop, axis = 1)\n",
    "df_copy.shape"
   ]
  },
  {
   "cell_type": "code",
   "execution_count": 860,
   "id": "f78e8c4e",
   "metadata": {},
   "outputs": [
    {
     "data": {
      "text/plain": [
       "Index(['Game_names', 'Genres_by_site', 'Game_languages', 'Game_reviwes_all',\n",
       "       'Game_reviwes_positive', 'Game_reviwes_nagitive',\n",
       "       'Game_achievments_num', 'Game_achievments_grades',\n",
       "       'Offensive_word_count', 'Num_of_game_languages',\n",
       "       'Num_of_genres_by_site', 'Game_release_date_cleaned',\n",
       "       'Game_reviwes_positive_percentage', 'successful_game',\n",
       "       'days_until_scraping_day', 'reviwes_positive_per_day',\n",
       "       'reviwes_all_per_day'],\n",
       "      dtype='object')"
      ]
     },
     "execution_count": 860,
     "metadata": {},
     "output_type": "execute_result"
    }
   ],
   "source": [
    "df_copy.columns"
   ]
  },
  {
   "cell_type": "code",
   "execution_count": 861,
   "id": "62a37a3d",
   "metadata": {},
   "outputs": [
    {
     "data": {
      "text/html": [
       "<div>\n",
       "<style scoped>\n",
       "    .dataframe tbody tr th:only-of-type {\n",
       "        vertical-align: middle;\n",
       "    }\n",
       "\n",
       "    .dataframe tbody tr th {\n",
       "        vertical-align: top;\n",
       "    }\n",
       "\n",
       "    .dataframe thead th {\n",
       "        text-align: right;\n",
       "    }\n",
       "</style>\n",
       "<table border=\"1\" class=\"dataframe\">\n",
       "  <thead>\n",
       "    <tr style=\"text-align: right;\">\n",
       "      <th></th>\n",
       "      <th>Game_names</th>\n",
       "      <th>Genres_by_site</th>\n",
       "      <th>Game_languages</th>\n",
       "      <th>Game_reviwes_all</th>\n",
       "      <th>Game_reviwes_positive</th>\n",
       "      <th>Game_reviwes_nagitive</th>\n",
       "      <th>Game_achievments_num</th>\n",
       "      <th>Game_achievments_grades</th>\n",
       "      <th>Offensive_word_count</th>\n",
       "      <th>Num_of_game_languages</th>\n",
       "      <th>Num_of_genres_by_site</th>\n",
       "      <th>Game_release_date_cleaned</th>\n",
       "      <th>Game_reviwes_positive_percentage</th>\n",
       "      <th>successful_game</th>\n",
       "      <th>days_until_scraping_day</th>\n",
       "      <th>reviwes_positive_per_day</th>\n",
       "      <th>reviwes_all_per_day</th>\n",
       "    </tr>\n",
       "  </thead>\n",
       "  <tbody>\n",
       "    <tr>\n",
       "      <th>0</th>\n",
       "      <td>Geometry Dash</td>\n",
       "      <td>[Action, Indie, RobTop Games, RobTop Games]</td>\n",
       "      <td>[English]</td>\n",
       "      <td>242789</td>\n",
       "      <td>226694</td>\n",
       "      <td>16095</td>\n",
       "      <td>120.0</td>\n",
       "      <td>32.316667</td>\n",
       "      <td>0</td>\n",
       "      <td>1</td>\n",
       "      <td>4</td>\n",
       "      <td>22 Dec, 2014</td>\n",
       "      <td>93.370787</td>\n",
       "      <td>1</td>\n",
       "      <td>3107</td>\n",
       "      <td>72.962343</td>\n",
       "      <td>78.142581</td>\n",
       "    </tr>\n",
       "    <tr>\n",
       "      <th>3</th>\n",
       "      <td>Call of Duty®: Modern Warfare® II</td>\n",
       "      <td>[Action, Infinity Ward, Raven Software, Beenox...</td>\n",
       "      <td>[English, French, Italian, German, Spanish - S...</td>\n",
       "      <td>389880</td>\n",
       "      <td>235282</td>\n",
       "      <td>154598</td>\n",
       "      <td>24.0</td>\n",
       "      <td>2.062500</td>\n",
       "      <td>1</td>\n",
       "      <td>14</td>\n",
       "      <td>14</td>\n",
       "      <td>27 Oct, 2022</td>\n",
       "      <td>60.347286</td>\n",
       "      <td>0</td>\n",
       "      <td>241</td>\n",
       "      <td>976.273859</td>\n",
       "      <td>1617.759336</td>\n",
       "    </tr>\n",
       "    <tr>\n",
       "      <th>4</th>\n",
       "      <td>Apex Legends™</td>\n",
       "      <td>[Action, Adventure, Free to Play, Respawn Ente...</td>\n",
       "      <td>[English, French, Italian, German, Spanish - S...</td>\n",
       "      <td>672267</td>\n",
       "      <td>546717</td>\n",
       "      <td>125550</td>\n",
       "      <td>12.0</td>\n",
       "      <td>31.791667</td>\n",
       "      <td>0</td>\n",
       "      <td>14</td>\n",
       "      <td>6</td>\n",
       "      <td>4 Nov, 2020</td>\n",
       "      <td>81.324385</td>\n",
       "      <td>1</td>\n",
       "      <td>963</td>\n",
       "      <td>567.722741</td>\n",
       "      <td>698.096573</td>\n",
       "    </tr>\n",
       "    <tr>\n",
       "      <th>8</th>\n",
       "      <td>BattleBit Remastered</td>\n",
       "      <td>[Action, Massively Multiplayer, Early Access, ...</td>\n",
       "      <td>[English, French, Italian, German, Spanish - S...</td>\n",
       "      <td>23267</td>\n",
       "      <td>21023</td>\n",
       "      <td>2244</td>\n",
       "      <td>0.0</td>\n",
       "      <td>0.000000</td>\n",
       "      <td>0</td>\n",
       "      <td>27</td>\n",
       "      <td>7</td>\n",
       "      <td>15 Jun, 2023</td>\n",
       "      <td>90.355439</td>\n",
       "      <td>0</td>\n",
       "      <td>10</td>\n",
       "      <td>2102.300000</td>\n",
       "      <td>2326.700000</td>\n",
       "    </tr>\n",
       "    <tr>\n",
       "      <th>9</th>\n",
       "      <td>War Thunder</td>\n",
       "      <td>[Action, Free to Play, Massively Multiplayer, ...</td>\n",
       "      <td>[English, German, French, Italian, Spanish - S...</td>\n",
       "      <td>531030</td>\n",
       "      <td>300529</td>\n",
       "      <td>230501</td>\n",
       "      <td>75.0</td>\n",
       "      <td>7.113333</td>\n",
       "      <td>0</td>\n",
       "      <td>18</td>\n",
       "      <td>6</td>\n",
       "      <td>15 Aug, 2013</td>\n",
       "      <td>56.593601</td>\n",
       "      <td>0</td>\n",
       "      <td>3601</td>\n",
       "      <td>83.457095</td>\n",
       "      <td>147.467370</td>\n",
       "    </tr>\n",
       "  </tbody>\n",
       "</table>\n",
       "</div>"
      ],
      "text/plain": [
       "                          Game_names  \\\n",
       "0                      Geometry Dash   \n",
       "3  Call of Duty®: Modern Warfare® II   \n",
       "4                      Apex Legends™   \n",
       "8               BattleBit Remastered   \n",
       "9                        War Thunder   \n",
       "\n",
       "                                      Genres_by_site  \\\n",
       "0        [Action, Indie, RobTop Games, RobTop Games]   \n",
       "3  [Action, Infinity Ward, Raven Software, Beenox...   \n",
       "4  [Action, Adventure, Free to Play, Respawn Ente...   \n",
       "8  [Action, Massively Multiplayer, Early Access, ...   \n",
       "9  [Action, Free to Play, Massively Multiplayer, ...   \n",
       "\n",
       "                                      Game_languages  Game_reviwes_all  \\\n",
       "0                                          [English]            242789   \n",
       "3  [English, French, Italian, German, Spanish - S...            389880   \n",
       "4  [English, French, Italian, German, Spanish - S...            672267   \n",
       "8  [English, French, Italian, German, Spanish - S...             23267   \n",
       "9  [English, German, French, Italian, Spanish - S...            531030   \n",
       "\n",
       "   Game_reviwes_positive  Game_reviwes_nagitive  Game_achievments_num  \\\n",
       "0                 226694                  16095                 120.0   \n",
       "3                 235282                 154598                  24.0   \n",
       "4                 546717                 125550                  12.0   \n",
       "8                  21023                   2244                   0.0   \n",
       "9                 300529                 230501                  75.0   \n",
       "\n",
       "   Game_achievments_grades  Offensive_word_count  Num_of_game_languages  \\\n",
       "0                32.316667                     0                      1   \n",
       "3                 2.062500                     1                     14   \n",
       "4                31.791667                     0                     14   \n",
       "8                 0.000000                     0                     27   \n",
       "9                 7.113333                     0                     18   \n",
       "\n",
       "   Num_of_genres_by_site Game_release_date_cleaned  \\\n",
       "0                      4              22 Dec, 2014   \n",
       "3                     14              27 Oct, 2022   \n",
       "4                      6               4 Nov, 2020   \n",
       "8                      7              15 Jun, 2023   \n",
       "9                      6              15 Aug, 2013   \n",
       "\n",
       "   Game_reviwes_positive_percentage  successful_game  days_until_scraping_day  \\\n",
       "0                         93.370787                1                     3107   \n",
       "3                         60.347286                0                      241   \n",
       "4                         81.324385                1                      963   \n",
       "8                         90.355439                0                       10   \n",
       "9                         56.593601                0                     3601   \n",
       "\n",
       "   reviwes_positive_per_day  reviwes_all_per_day  \n",
       "0                 72.962343            78.142581  \n",
       "3                976.273859          1617.759336  \n",
       "4                567.722741           698.096573  \n",
       "8               2102.300000          2326.700000  \n",
       "9                 83.457095           147.467370  "
      ]
     },
     "execution_count": 861,
     "metadata": {},
     "output_type": "execute_result"
    }
   ],
   "source": [
    "df_copy.head()"
   ]
  },
  {
   "cell_type": "markdown",
   "id": "3450ebce",
   "metadata": {},
   "source": [
    "\n",
    "# UNTIL HERE DATA HANDLING.\n"
   ]
  },
  {
   "cell_type": "markdown",
   "id": "eb59095c",
   "metadata": {},
   "source": [
    "# Let's start with the graphs..."
   ]
  },
  {
   "cell_type": "code",
   "execution_count": 862,
   "id": "878b639a",
   "metadata": {},
   "outputs": [
    {
     "data": {
      "text/html": [
       "<div>\n",
       "<style scoped>\n",
       "    .dataframe tbody tr th:only-of-type {\n",
       "        vertical-align: middle;\n",
       "    }\n",
       "\n",
       "    .dataframe tbody tr th {\n",
       "        vertical-align: top;\n",
       "    }\n",
       "\n",
       "    .dataframe thead th {\n",
       "        text-align: right;\n",
       "    }\n",
       "</style>\n",
       "<table border=\"1\" class=\"dataframe\">\n",
       "  <thead>\n",
       "    <tr style=\"text-align: right;\">\n",
       "      <th></th>\n",
       "      <th>Game_reviwes_all</th>\n",
       "      <th>Game_reviwes_positive</th>\n",
       "      <th>Game_reviwes_nagitive</th>\n",
       "      <th>Game_achievments_num</th>\n",
       "      <th>Game_achievments_grades</th>\n",
       "      <th>Offensive_word_count</th>\n",
       "      <th>Num_of_game_languages</th>\n",
       "      <th>Num_of_genres_by_site</th>\n",
       "      <th>Game_reviwes_positive_percentage</th>\n",
       "      <th>successful_game</th>\n",
       "      <th>days_until_scraping_day</th>\n",
       "      <th>reviwes_positive_per_day</th>\n",
       "      <th>reviwes_all_per_day</th>\n",
       "    </tr>\n",
       "  </thead>\n",
       "  <tbody>\n",
       "    <tr>\n",
       "      <th>Game_reviwes_all</th>\n",
       "      <td>1.000000</td>\n",
       "      <td>0.989663</td>\n",
       "      <td>0.655372</td>\n",
       "      <td>0.234915</td>\n",
       "      <td>-0.045471</td>\n",
       "      <td>0.104718</td>\n",
       "      <td>0.169141</td>\n",
       "      <td>-0.014991</td>\n",
       "      <td>0.128048</td>\n",
       "      <td>0.735275</td>\n",
       "      <td>0.574879</td>\n",
       "      <td>0.323425</td>\n",
       "      <td>0.320011</td>\n",
       "    </tr>\n",
       "    <tr>\n",
       "      <th>Game_reviwes_positive</th>\n",
       "      <td>0.989663</td>\n",
       "      <td>1.000000</td>\n",
       "      <td>0.540277</td>\n",
       "      <td>0.238436</td>\n",
       "      <td>-0.027919</td>\n",
       "      <td>0.099286</td>\n",
       "      <td>0.170804</td>\n",
       "      <td>-0.031523</td>\n",
       "      <td>0.204670</td>\n",
       "      <td>0.765141</td>\n",
       "      <td>0.585272</td>\n",
       "      <td>0.315753</td>\n",
       "      <td>0.296609</td>\n",
       "    </tr>\n",
       "    <tr>\n",
       "      <th>Game_reviwes_nagitive</th>\n",
       "      <td>0.655372</td>\n",
       "      <td>0.540277</td>\n",
       "      <td>1.000000</td>\n",
       "      <td>0.122620</td>\n",
       "      <td>-0.119768</td>\n",
       "      <td>0.091538</td>\n",
       "      <td>0.092880</td>\n",
       "      <td>0.078058</td>\n",
       "      <td>-0.326596</td>\n",
       "      <td>0.284554</td>\n",
       "      <td>0.290725</td>\n",
       "      <td>0.234766</td>\n",
       "      <td>0.315553</td>\n",
       "    </tr>\n",
       "    <tr>\n",
       "      <th>Game_achievments_num</th>\n",
       "      <td>0.234915</td>\n",
       "      <td>0.238436</td>\n",
       "      <td>0.122620</td>\n",
       "      <td>1.000000</td>\n",
       "      <td>0.021956</td>\n",
       "      <td>0.008720</td>\n",
       "      <td>0.008181</td>\n",
       "      <td>0.023770</td>\n",
       "      <td>0.125027</td>\n",
       "      <td>0.208686</td>\n",
       "      <td>0.257595</td>\n",
       "      <td>0.001864</td>\n",
       "      <td>-0.009961</td>\n",
       "    </tr>\n",
       "    <tr>\n",
       "      <th>Game_achievments_grades</th>\n",
       "      <td>-0.045471</td>\n",
       "      <td>-0.027919</td>\n",
       "      <td>-0.119768</td>\n",
       "      <td>0.021956</td>\n",
       "      <td>1.000000</td>\n",
       "      <td>0.065083</td>\n",
       "      <td>0.107560</td>\n",
       "      <td>-0.204106</td>\n",
       "      <td>0.220389</td>\n",
       "      <td>0.004154</td>\n",
       "      <td>-0.104989</td>\n",
       "      <td>0.007771</td>\n",
       "      <td>-0.010079</td>\n",
       "    </tr>\n",
       "    <tr>\n",
       "      <th>Offensive_word_count</th>\n",
       "      <td>0.104718</td>\n",
       "      <td>0.099286</td>\n",
       "      <td>0.091538</td>\n",
       "      <td>0.008720</td>\n",
       "      <td>0.065083</td>\n",
       "      <td>1.000000</td>\n",
       "      <td>0.034147</td>\n",
       "      <td>-0.049933</td>\n",
       "      <td>-0.084278</td>\n",
       "      <td>0.040680</td>\n",
       "      <td>-0.014174</td>\n",
       "      <td>0.063231</td>\n",
       "      <td>0.077441</td>\n",
       "    </tr>\n",
       "    <tr>\n",
       "      <th>Num_of_game_languages</th>\n",
       "      <td>0.169141</td>\n",
       "      <td>0.170804</td>\n",
       "      <td>0.092880</td>\n",
       "      <td>0.008181</td>\n",
       "      <td>0.107560</td>\n",
       "      <td>0.034147</td>\n",
       "      <td>1.000000</td>\n",
       "      <td>-0.094762</td>\n",
       "      <td>0.034755</td>\n",
       "      <td>0.105327</td>\n",
       "      <td>0.095302</td>\n",
       "      <td>0.128752</td>\n",
       "      <td>0.125649</td>\n",
       "    </tr>\n",
       "    <tr>\n",
       "      <th>Num_of_genres_by_site</th>\n",
       "      <td>-0.014991</td>\n",
       "      <td>-0.031523</td>\n",
       "      <td>0.078058</td>\n",
       "      <td>0.023770</td>\n",
       "      <td>-0.204106</td>\n",
       "      <td>-0.049933</td>\n",
       "      <td>-0.094762</td>\n",
       "      <td>1.000000</td>\n",
       "      <td>-0.043090</td>\n",
       "      <td>0.003953</td>\n",
       "      <td>0.011461</td>\n",
       "      <td>0.092753</td>\n",
       "      <td>0.113847</td>\n",
       "    </tr>\n",
       "    <tr>\n",
       "      <th>Game_reviwes_positive_percentage</th>\n",
       "      <td>0.128048</td>\n",
       "      <td>0.204670</td>\n",
       "      <td>-0.326596</td>\n",
       "      <td>0.125027</td>\n",
       "      <td>0.220389</td>\n",
       "      <td>-0.084278</td>\n",
       "      <td>0.034755</td>\n",
       "      <td>-0.043090</td>\n",
       "      <td>1.000000</td>\n",
       "      <td>0.174715</td>\n",
       "      <td>0.211707</td>\n",
       "      <td>0.082532</td>\n",
       "      <td>-0.032345</td>\n",
       "    </tr>\n",
       "    <tr>\n",
       "      <th>successful_game</th>\n",
       "      <td>0.735275</td>\n",
       "      <td>0.765141</td>\n",
       "      <td>0.284554</td>\n",
       "      <td>0.208686</td>\n",
       "      <td>0.004154</td>\n",
       "      <td>0.040680</td>\n",
       "      <td>0.105327</td>\n",
       "      <td>0.003953</td>\n",
       "      <td>0.174715</td>\n",
       "      <td>1.000000</td>\n",
       "      <td>0.397987</td>\n",
       "      <td>0.271352</td>\n",
       "      <td>0.241445</td>\n",
       "    </tr>\n",
       "    <tr>\n",
       "      <th>days_until_scraping_day</th>\n",
       "      <td>0.574879</td>\n",
       "      <td>0.585272</td>\n",
       "      <td>0.290725</td>\n",
       "      <td>0.257595</td>\n",
       "      <td>-0.104989</td>\n",
       "      <td>-0.014174</td>\n",
       "      <td>0.095302</td>\n",
       "      <td>0.011461</td>\n",
       "      <td>0.211707</td>\n",
       "      <td>0.397987</td>\n",
       "      <td>1.000000</td>\n",
       "      <td>-0.146396</td>\n",
       "      <td>-0.166889</td>\n",
       "    </tr>\n",
       "    <tr>\n",
       "      <th>reviwes_positive_per_day</th>\n",
       "      <td>0.323425</td>\n",
       "      <td>0.315753</td>\n",
       "      <td>0.234766</td>\n",
       "      <td>0.001864</td>\n",
       "      <td>0.007771</td>\n",
       "      <td>0.063231</td>\n",
       "      <td>0.128752</td>\n",
       "      <td>0.092753</td>\n",
       "      <td>0.082532</td>\n",
       "      <td>0.271352</td>\n",
       "      <td>-0.146396</td>\n",
       "      <td>1.000000</td>\n",
       "      <td>0.981844</td>\n",
       "    </tr>\n",
       "    <tr>\n",
       "      <th>reviwes_all_per_day</th>\n",
       "      <td>0.320011</td>\n",
       "      <td>0.296609</td>\n",
       "      <td>0.315553</td>\n",
       "      <td>-0.009961</td>\n",
       "      <td>-0.010079</td>\n",
       "      <td>0.077441</td>\n",
       "      <td>0.125649</td>\n",
       "      <td>0.113847</td>\n",
       "      <td>-0.032345</td>\n",
       "      <td>0.241445</td>\n",
       "      <td>-0.166889</td>\n",
       "      <td>0.981844</td>\n",
       "      <td>1.000000</td>\n",
       "    </tr>\n",
       "  </tbody>\n",
       "</table>\n",
       "</div>"
      ],
      "text/plain": [
       "                                  Game_reviwes_all  Game_reviwes_positive  \\\n",
       "Game_reviwes_all                          1.000000               0.989663   \n",
       "Game_reviwes_positive                     0.989663               1.000000   \n",
       "Game_reviwes_nagitive                     0.655372               0.540277   \n",
       "Game_achievments_num                      0.234915               0.238436   \n",
       "Game_achievments_grades                  -0.045471              -0.027919   \n",
       "Offensive_word_count                      0.104718               0.099286   \n",
       "Num_of_game_languages                     0.169141               0.170804   \n",
       "Num_of_genres_by_site                    -0.014991              -0.031523   \n",
       "Game_reviwes_positive_percentage          0.128048               0.204670   \n",
       "successful_game                           0.735275               0.765141   \n",
       "days_until_scraping_day                   0.574879               0.585272   \n",
       "reviwes_positive_per_day                  0.323425               0.315753   \n",
       "reviwes_all_per_day                       0.320011               0.296609   \n",
       "\n",
       "                                  Game_reviwes_nagitive  Game_achievments_num  \\\n",
       "Game_reviwes_all                               0.655372              0.234915   \n",
       "Game_reviwes_positive                          0.540277              0.238436   \n",
       "Game_reviwes_nagitive                          1.000000              0.122620   \n",
       "Game_achievments_num                           0.122620              1.000000   \n",
       "Game_achievments_grades                       -0.119768              0.021956   \n",
       "Offensive_word_count                           0.091538              0.008720   \n",
       "Num_of_game_languages                          0.092880              0.008181   \n",
       "Num_of_genres_by_site                          0.078058              0.023770   \n",
       "Game_reviwes_positive_percentage              -0.326596              0.125027   \n",
       "successful_game                                0.284554              0.208686   \n",
       "days_until_scraping_day                        0.290725              0.257595   \n",
       "reviwes_positive_per_day                       0.234766              0.001864   \n",
       "reviwes_all_per_day                            0.315553             -0.009961   \n",
       "\n",
       "                                  Game_achievments_grades  \\\n",
       "Game_reviwes_all                                -0.045471   \n",
       "Game_reviwes_positive                           -0.027919   \n",
       "Game_reviwes_nagitive                           -0.119768   \n",
       "Game_achievments_num                             0.021956   \n",
       "Game_achievments_grades                          1.000000   \n",
       "Offensive_word_count                             0.065083   \n",
       "Num_of_game_languages                            0.107560   \n",
       "Num_of_genres_by_site                           -0.204106   \n",
       "Game_reviwes_positive_percentage                 0.220389   \n",
       "successful_game                                  0.004154   \n",
       "days_until_scraping_day                         -0.104989   \n",
       "reviwes_positive_per_day                         0.007771   \n",
       "reviwes_all_per_day                             -0.010079   \n",
       "\n",
       "                                  Offensive_word_count  Num_of_game_languages  \\\n",
       "Game_reviwes_all                              0.104718               0.169141   \n",
       "Game_reviwes_positive                         0.099286               0.170804   \n",
       "Game_reviwes_nagitive                         0.091538               0.092880   \n",
       "Game_achievments_num                          0.008720               0.008181   \n",
       "Game_achievments_grades                       0.065083               0.107560   \n",
       "Offensive_word_count                          1.000000               0.034147   \n",
       "Num_of_game_languages                         0.034147               1.000000   \n",
       "Num_of_genres_by_site                        -0.049933              -0.094762   \n",
       "Game_reviwes_positive_percentage             -0.084278               0.034755   \n",
       "successful_game                               0.040680               0.105327   \n",
       "days_until_scraping_day                      -0.014174               0.095302   \n",
       "reviwes_positive_per_day                      0.063231               0.128752   \n",
       "reviwes_all_per_day                           0.077441               0.125649   \n",
       "\n",
       "                                  Num_of_genres_by_site  \\\n",
       "Game_reviwes_all                              -0.014991   \n",
       "Game_reviwes_positive                         -0.031523   \n",
       "Game_reviwes_nagitive                          0.078058   \n",
       "Game_achievments_num                           0.023770   \n",
       "Game_achievments_grades                       -0.204106   \n",
       "Offensive_word_count                          -0.049933   \n",
       "Num_of_game_languages                         -0.094762   \n",
       "Num_of_genres_by_site                          1.000000   \n",
       "Game_reviwes_positive_percentage              -0.043090   \n",
       "successful_game                                0.003953   \n",
       "days_until_scraping_day                        0.011461   \n",
       "reviwes_positive_per_day                       0.092753   \n",
       "reviwes_all_per_day                            0.113847   \n",
       "\n",
       "                                  Game_reviwes_positive_percentage  \\\n",
       "Game_reviwes_all                                          0.128048   \n",
       "Game_reviwes_positive                                     0.204670   \n",
       "Game_reviwes_nagitive                                    -0.326596   \n",
       "Game_achievments_num                                      0.125027   \n",
       "Game_achievments_grades                                   0.220389   \n",
       "Offensive_word_count                                     -0.084278   \n",
       "Num_of_game_languages                                     0.034755   \n",
       "Num_of_genres_by_site                                    -0.043090   \n",
       "Game_reviwes_positive_percentage                          1.000000   \n",
       "successful_game                                           0.174715   \n",
       "days_until_scraping_day                                   0.211707   \n",
       "reviwes_positive_per_day                                  0.082532   \n",
       "reviwes_all_per_day                                      -0.032345   \n",
       "\n",
       "                                  successful_game  days_until_scraping_day  \\\n",
       "Game_reviwes_all                         0.735275                 0.574879   \n",
       "Game_reviwes_positive                    0.765141                 0.585272   \n",
       "Game_reviwes_nagitive                    0.284554                 0.290725   \n",
       "Game_achievments_num                     0.208686                 0.257595   \n",
       "Game_achievments_grades                  0.004154                -0.104989   \n",
       "Offensive_word_count                     0.040680                -0.014174   \n",
       "Num_of_game_languages                    0.105327                 0.095302   \n",
       "Num_of_genres_by_site                    0.003953                 0.011461   \n",
       "Game_reviwes_positive_percentage         0.174715                 0.211707   \n",
       "successful_game                          1.000000                 0.397987   \n",
       "days_until_scraping_day                  0.397987                 1.000000   \n",
       "reviwes_positive_per_day                 0.271352                -0.146396   \n",
       "reviwes_all_per_day                      0.241445                -0.166889   \n",
       "\n",
       "                                  reviwes_positive_per_day  \\\n",
       "Game_reviwes_all                                  0.323425   \n",
       "Game_reviwes_positive                             0.315753   \n",
       "Game_reviwes_nagitive                             0.234766   \n",
       "Game_achievments_num                              0.001864   \n",
       "Game_achievments_grades                           0.007771   \n",
       "Offensive_word_count                              0.063231   \n",
       "Num_of_game_languages                             0.128752   \n",
       "Num_of_genres_by_site                             0.092753   \n",
       "Game_reviwes_positive_percentage                  0.082532   \n",
       "successful_game                                   0.271352   \n",
       "days_until_scraping_day                          -0.146396   \n",
       "reviwes_positive_per_day                          1.000000   \n",
       "reviwes_all_per_day                               0.981844   \n",
       "\n",
       "                                  reviwes_all_per_day  \n",
       "Game_reviwes_all                             0.320011  \n",
       "Game_reviwes_positive                        0.296609  \n",
       "Game_reviwes_nagitive                        0.315553  \n",
       "Game_achievments_num                        -0.009961  \n",
       "Game_achievments_grades                     -0.010079  \n",
       "Offensive_word_count                         0.077441  \n",
       "Num_of_game_languages                        0.125649  \n",
       "Num_of_genres_by_site                        0.113847  \n",
       "Game_reviwes_positive_percentage            -0.032345  \n",
       "successful_game                              0.241445  \n",
       "days_until_scraping_day                     -0.166889  \n",
       "reviwes_positive_per_day                     0.981844  \n",
       "reviwes_all_per_day                          1.000000  "
      ]
     },
     "execution_count": 862,
     "metadata": {},
     "output_type": "execute_result"
    }
   ],
   "source": [
    "df_copy.corr()"
   ]
  },
  {
   "cell_type": "code",
   "execution_count": 863,
   "id": "c7e2d3e5",
   "metadata": {},
   "outputs": [
    {
     "data": {
      "image/png": "[encoded data removed]",
      "text/plain": [
       "<Figure size 640x480 with 1 Axes>"
      ]
     },
     "metadata": {},
     "output_type": "display_data"
    }
   ],
   "source": [
    "# Plot the histogram\n",
    "#plt.hist(df_graphs['Game_reviwes_all'], bins=10)\n",
    "df_copy.reviwes_all_per_day.hist(bins=40)  # Adjust the number of bins as needed\n",
    "\n",
    "# Set labels and title\n",
    "plt.xlabel('Number of Reviews')\n",
    "plt.ylabel('Frequency')\n",
    "plt.title('Histogram of Reviews Count')\n",
    "\n",
    "# Display the histogram\n",
    "plt.show()"
   ]
  },
  {
   "cell_type": "code",
   "execution_count": 864,
   "id": "9a7ef7b3",
   "metadata": {},
   "outputs": [
    {
     "name": "stdout",
     "output_type": "stream",
     "text": [
      "Successful games:  47\n",
      "Unsuccessful games:  416\n"
     ]
    },
    {
     "data": {
      "text/plain": [
       "<matplotlib.legend.Legend at 0x2a76b6ed5e0>"
      ]
     },
     "execution_count": 864,
     "metadata": {},
     "output_type": "execute_result"
    },
    {
     "data": {
      "image/png": "[encoded data removed]",
      "text/plain": [
       "<Figure size 640x480 with 1 Axes>"
      ]
     },
     "metadata": {},
     "output_type": "display_data"
    }
   ],
   "source": [
    "print(\"Successful games: \",df_copy[\"successful_game\"].value_counts()[1] )\n",
    "print(\"Unsuccessful games: \",df_copy[\"successful_game\"].value_counts()[0] )\n",
    "\n",
    "df_copy[\"successful_game\"].value_counts().plot(kind='pie')\n",
    "# We can see here the relate between successful game and unsuccessful\n",
    "labels = [\"unsuccessful games\", \"successful games\"]\n",
    "plt.legend(labels=labels)\n"
   ]
  },
  {
   "cell_type": "code",
   "execution_count": 865,
   "id": "5ec4c7b8",
   "metadata": {},
   "outputs": [
    {
     "data": {
      "text/plain": [
       "Text(0.5, 1.0, \"Successful game's amount\")"
      ]
     },
     "execution_count": 865,
     "metadata": {},
     "output_type": "execute_result"
    },
    {
     "data": {
      "image/png": "[encoded data removed]",
      "text/plain": [
       "<Figure size 640x480 with 1 Axes>"
      ]
     },
     "metadata": {},
     "output_type": "display_data"
    }
   ],
   "source": [
    "mycolors = ['#FA1F2C', 'green']\n",
    "df_copy[\"successful_game\"].value_counts().plot(kind='bar' , color = mycolors)\n",
    "plt.ylabel('Count Games')\n",
    "plt.xlabel('Is Successful')\n",
    "plt.title(\"Successful game's amount\")"
   ]
  },
  {
   "cell_type": "code",
   "execution_count": 866,
   "id": "6de7965f",
   "metadata": {},
   "outputs": [],
   "source": [
    "# Count the occurrences of each language\n",
    "language_counts = pd.Series([lang for langs in df_copy['Game_languages'] for lang in langs]).value_counts()\n",
    "\n",
    "# Select the top 10 languages\n",
    "top_10_languages = language_counts.head(10).index.tolist()\n",
    "\n",
    "games_count_top_10 = games_count_top_10 = language_counts.loc[top_10_languages]"
   ]
  },
  {
   "cell_type": "code",
   "execution_count": 867,
   "id": "843a8f35",
   "metadata": {},
   "outputs": [
    {
     "data": {
      "text/plain": [
       "Text(0.5, 1.0, '10 most frequent languages in games')"
      ]
     },
     "execution_count": 867,
     "metadata": {},
     "output_type": "execute_result"
    },
    {
     "data": {
      "image/png": "[encoded data removed]",
      "text/plain": [
       "<Figure size 640x480 with 1 Axes>"
      ]
     },
     "metadata": {},
     "output_type": "display_data"
    }
   ],
   "source": [
    "games_count_top_10.plot(kind='pie')\n",
    "plt.title(\"10 most frequent languages in games\")\n",
    "# We can see here the relate between successful game and unsuccessful\n",
    "#labels = [\"Unsuccessful games\", \"Successful games\"]\n",
    "#plt.legend(labels=labels)\n"
   ]
  },
  {
   "cell_type": "code",
   "execution_count": 868,
   "id": "90f1ee47",
   "metadata": {},
   "outputs": [
    {
     "data": {
      "text/plain": [
       "Text(0.5, 1.0, '10 most frequent languages in games')"
      ]
     },
     "execution_count": 868,
     "metadata": {},
     "output_type": "execute_result"
    },
    {
     "data": {
      "image/png": "[encoded data removed]",
      "text/plain": [
       "<Figure size 640x480 with 1 Axes>"
      ]
     },
     "metadata": {},
     "output_type": "display_data"
    }
   ],
   "source": [
    "games_count_top_10.plot(kind='barh')\n",
    "plt.title('10 most frequent languages in games')"
   ]
  },
  {
   "cell_type": "code",
   "execution_count": 869,
   "id": "9dc72b8c",
   "metadata": {},
   "outputs": [
    {
     "data": {
      "image/png": "[encoded data removed]",
      "text/plain": [
       "<Figure size 640x480 with 1 Axes>"
      ]
     },
     "metadata": {},
     "output_type": "display_data"
    }
   ],
   "source": [
    "# Plot the histogram\n",
    "#plt.hist(df_graphs['Game_reviwes_all'], bins=10)\n",
    "df_copy.Game_reviwes_positive_percentage.hist(bins=20)  # Adjust the number of bins as needed\n",
    "\n",
    "# Set labels and title\n",
    "plt.xlabel('Number of Reviews')\n",
    "plt.ylabel('Frequency')\n",
    "plt.title('Histogram of positive Reviewspercentage  ')\n",
    "\n",
    "# Display the histogram\n",
    "plt.show()\n"
   ]
  },
  {
   "cell_type": "code",
   "execution_count": 870,
   "id": "b1c9ec1a",
   "metadata": {},
   "outputs": [
    {
     "data": {
      "text/plain": [
       "Index(['Game_names', 'Genres_by_site', 'Game_languages', 'Game_reviwes_all',\n",
       "       'Game_reviwes_positive', 'Game_reviwes_nagitive',\n",
       "       'Game_achievments_num', 'Game_achievments_grades',\n",
       "       'Offensive_word_count', 'Num_of_game_languages',\n",
       "       'Num_of_genres_by_site', 'Game_release_date_cleaned',\n",
       "       'Game_reviwes_positive_percentage', 'successful_game',\n",
       "       'days_until_scraping_day', 'reviwes_positive_per_day',\n",
       "       'reviwes_all_per_day'],\n",
       "      dtype='object')"
      ]
     },
     "execution_count": 870,
     "metadata": {},
     "output_type": "execute_result"
    }
   ],
   "source": [
    "df_copy.columns"
   ]
  },
  {
   "cell_type": "code",
   "execution_count": 871,
   "id": "43f54360",
   "metadata": {},
   "outputs": [
    {
     "data": {
      "image/png": "[encoded data removed]",
      "text/plain": [
       "<Figure size 640x480 with 1 Axes>"
      ]
     },
     "metadata": {},
     "output_type": "display_data"
    }
   ],
   "source": [
    "successful_games = df_copy[df_copy['successful_game'] == 1]\n",
    "unsuccessful_games = df_copy[df_copy['successful_game'] == 0]\n",
    "\n",
    "# Plot the histograms with different colors\n",
    "plt.hist(successful_games['Game_reviwes_all'], color='red', alpha=0.5, label='Successful Games')\n",
    "plt.hist(unsuccessful_games['Game_reviwes_all'], color='blue', alpha=0.5, label='Unsuccessful Games')\n",
    "\n",
    "# Add labels and title to the plot\n",
    "plt.xlabel('Languages Number')\n",
    "plt.ylabel('Frequency')\n",
    "plt.title('Histogram of Languages Number')\n",
    "\n",
    "# Add legend\n",
    "plt.legend()\n",
    "\n",
    "# Display the plot\n",
    "plt.show()"
   ]
  },
  {
   "cell_type": "code",
   "execution_count": 872,
   "id": "05bb7c40",
   "metadata": {
    "scrolled": false
   },
   "outputs": [
    {
     "data": {
      "image/png": "[encoded data removed]",
      "text/plain": [
       "<Figure size 640x480 with 1 Axes>"
      ]
     },
     "metadata": {},
     "output_type": "display_data"
    }
   ],
   "source": [
    "successful_games = df_copy[df_copy['successful_game'] == 1]\n",
    "unsuccessful_games = df_copy[df_copy['successful_game'] == 0]\n",
    "\n",
    "# Plot the histograms with different colors\n",
    "plt.hist(successful_games['Game_reviwes_positive_percentage'], color='red', alpha=0.5, label='Successful Games')\n",
    "plt.hist(unsuccessful_games['Game_reviwes_positive_percentage'], color='blue', alpha=0.5, label='Unsuccessful Games')\n",
    "\n",
    "# Add labels and title to the plot\n",
    "plt.xlabel('Percenatge Positive Reviews')\n",
    "plt.ylabel('Frequency')\n",
    "plt.title('Histogram of Percenatge Positive Reviews')\n",
    "\n",
    "# Add legend\n",
    "plt.legend()\n",
    "\n",
    "# Display the plot\n",
    "plt.show()\n"
   ]
  },
  {
   "cell_type": "code",
   "execution_count": 873,
   "id": "823cbd36",
   "metadata": {},
   "outputs": [
    {
     "data": {
      "image/png": "[encoded data removed]",
      "text/plain": [
       "<Figure size 640x480 with 1 Axes>"
      ]
     },
     "metadata": {},
     "output_type": "display_data"
    }
   ],
   "source": [
    "successful_games = df_copy[df_copy['successful_game'] == 1]\n",
    "unsuccessful_games = df_copy[df_copy['successful_game'] == 0]\n",
    "\n",
    "# Plot the histograms with different colors\n",
    "plt.hist(successful_games['Num_of_genres_by_site'], color='red', alpha=0.5, label='Successful Games')\n",
    "plt.hist(unsuccessful_games['Num_of_genres_by_site'], color='blue', alpha=0.5, label='Unsuccessful Games')\n",
    "\n",
    "# Add labels and title to the plot\n",
    "plt.xlabel('Genres Number')\n",
    "plt.ylabel('Frequency')\n",
    "plt.title('Histogram of Genres Number')\n",
    "\n",
    "# Add legend\n",
    "plt.legend()\n",
    "\n",
    "# Display the plot\n",
    "plt.show()\n"
   ]
  },
  {
   "cell_type": "code",
   "execution_count": 874,
   "id": "17aa6a14",
   "metadata": {},
   "outputs": [
    {
     "data": {
      "image/png": "[encoded data removed]",
      "text/plain": [
       "<Figure size 640x480 with 1 Axes>"
      ]
     },
     "metadata": {},
     "output_type": "display_data"
    }
   ],
   "source": [
    "successful_games = df_copy[df_copy['successful_game'] == 1]\n",
    "unsuccessful_games = df_copy[df_copy['successful_game'] == 0]\n",
    "\n",
    "# Plot the histograms with different colors\n",
    "plt.hist(successful_games['Num_of_game_languages'], color='red', alpha=0.5, label='Successful Games')\n",
    "plt.hist(unsuccessful_games['Num_of_game_languages'], color='blue', alpha=0.5, label='Unsuccessful Games')\n",
    "\n",
    "# Add labels and title to the plot\n",
    "plt.xlabel('Genres Number')\n",
    "plt.ylabel('Frequency')\n",
    "plt.title('Histogram of Genres Number')\n",
    "\n",
    "# Add legend\n",
    "plt.legend()\n",
    "\n",
    "# Display the plot\n",
    "plt.show()\n"
   ]
  },
  {
   "cell_type": "code",
   "execution_count": 875,
   "id": "dcf8dbdb",
   "metadata": {},
   "outputs": [
    {
     "data": {
      "image/png": "[encoded data removed]",
      "text/plain": [
       "<Figure size 640x480 with 1 Axes>"
      ]
     },
     "metadata": {},
     "output_type": "display_data"
    }
   ],
   "source": [
    "successful_games = df_copy[df_copy['successful_game'] == 1]\n",
    "unsuccessful_games = df_copy[df_copy['successful_game'] == 0]\n",
    "\n",
    "# Plot the histograms with different colors\n",
    "plt.hist(successful_games['Game_achievments_grades'], color='red', alpha=0.5, label='Successful Games')\n",
    "plt.hist(unsuccessful_games['Game_achievments_grades'], color='blue', alpha=0.5, label='Unsuccessful Games')\n",
    "\n",
    "# Add labels and title to the plot\n",
    "plt.xlabel('Genres Number')\n",
    "plt.ylabel('Frequency')\n",
    "plt.title('Histogram of Genres Number')\n",
    "\n",
    "# Add legend\n",
    "plt.legend()\n",
    "\n",
    "# Display the plot\n",
    "plt.show()\n"
   ]
  },
  {
   "cell_type": "code",
   "execution_count": 876,
   "id": "347dd1b5",
   "metadata": {},
   "outputs": [
    {
     "data": {
      "text/plain": [
       "Index(['Game_names', 'Genres_by_site', 'Game_languages', 'Game_reviwes_all',\n",
       "       'Game_reviwes_positive', 'Game_reviwes_nagitive',\n",
       "       'Game_achievments_num', 'Game_achievments_grades',\n",
       "       'Offensive_word_count', 'Num_of_game_languages',\n",
       "       'Num_of_genres_by_site', 'Game_release_date_cleaned',\n",
       "       'Game_reviwes_positive_percentage', 'successful_game',\n",
       "       'days_until_scraping_day', 'reviwes_positive_per_day',\n",
       "       'reviwes_all_per_day'],\n",
       "      dtype='object')"
      ]
     },
     "execution_count": 876,
     "metadata": {},
     "output_type": "execute_result"
    }
   ],
   "source": [
    "df_copy.columns"
   ]
  },
  {
   "cell_type": "code",
   "execution_count": 877,
   "id": "d819df02",
   "metadata": {},
   "outputs": [
    {
     "data": {
      "text/plain": [
       "<matplotlib.collections.PathCollection at 0x2a76f864b20>"
      ]
     },
     "execution_count": 877,
     "metadata": {},
     "output_type": "execute_result"
    },
    {
     "data": {
      "image/png": "[encoded data removed]",
      "text/plain": [
       "<Figure size 640x480 with 1 Axes>"
      ]
     },
     "metadata": {},
     "output_type": "display_data"
    }
   ],
   "source": [
    "# C\n",
    "\n",
    "fig = plt.figure()\n",
    "ax = plt.axes()\n",
    "ax.scatter(df_copy.Game_reviwes_positive, df_copy.Game_reviwes_positive_percentage)\n",
    "\n",
    "plt.xlabel('Positive Reviews Number')\n",
    "plt.ylabel('Positive Reviews Percentage')\n",
    "ax.scatter( df_copy.Game_reviwes_positive[df_copy.Offensive_word_count>1], df_copy.Game_reviwes_positive_percentage[df_copy.Offensive_word_count>1], c ='red',\n",
    "          s=df_copy['Offensive_word_count'][df_copy['Offensive_word_count'] > 1] * 10)"
   ]
  },
  {
   "cell_type": "code",
   "execution_count": 878,
   "id": "b40a8a2c",
   "metadata": {},
   "outputs": [
    {
     "data": {
      "image/png": "[encoded data removed]",
      "text/plain": [
       "<Figure size 640x480 with 1 Axes>"
      ]
     },
     "metadata": {},
     "output_type": "display_data"
    }
   ],
   "source": [
    "# Create the bar plot\n",
    "df_copy[\"Offensive_word_count\"].value_counts().plot(kind='pie')\n",
    "\n",
    "# Set labels and title\n",
    "plt.ylabel('Count Games')\n",
    "plt.xlabel('Level of offensiveness')\n",
    "plt.title(\"Games' level of offensiveness\")\n",
    "\n",
    "# Display the bar plot\n",
    "plt.show()\n"
   ]
  },
  {
   "cell_type": "code",
   "execution_count": 879,
   "id": "01285126",
   "metadata": {},
   "outputs": [
    {
     "name": "stderr",
     "output_type": "stream",
     "text": [
      "C:\\Users\\Lior\\anaconda3\\lib\\site-packages\\seaborn\\_decorators.py:36: FutureWarning: Pass the following variable as a keyword arg: x. From version 0.12, the only valid positional argument will be `data`, and passing other arguments without an explicit keyword will result in an error or misinterpretation.\n",
      "  warnings.warn(\n"
     ]
    },
    {
     "data": {
      "text/plain": [
       "<AxesSubplot:xlabel='Game_reviwes_all'>"
      ]
     },
     "execution_count": 879,
     "metadata": {},
     "output_type": "execute_result"
    },
    {
     "data": {
      "image/png": "[encoded data removed]",
      "text/plain": [
       "<Figure size 640x480 with 1 Axes>"
      ]
     },
     "metadata": {},
     "output_type": "display_data"
    }
   ],
   "source": [
    "sns.boxplot(df_copy['Game_reviwes_all'])"
   ]
  },
  {
   "cell_type": "code",
   "execution_count": 880,
   "id": "e0dac3be",
   "metadata": {},
   "outputs": [],
   "source": [
    "from sklearn.preprocessing import MinMaxScaler, RobustScaler, MaxAbsScaler, PowerTransformer\n",
    "\n",
    "#Columns to be scaled\n",
    "cols_to_scale = ['Game_reviwes_all', 'Game_reviwes_positive','Game_reviwes_nagitive','Game_achievments_num',\n",
    "                 'Game_achievments_grades','reviwes_all_per_day','reviwes_positive_per_day','Game_reviwes_positive_percentage',\n",
    "                 'Num_of_game_languages','Num_of_genres_by_site','Offensive_word_count']\n",
    "\n",
    "robust_scaler = RobustScaler()\n",
    "df_copy[cols_to_scale] = robust_scaler.fit_transform(df_copy[cols_to_scale])"
   ]
  },
  {
   "cell_type": "markdown",
   "id": "532b6bf8",
   "metadata": {},
   "source": [
    "# MACHINE LEARNING"
   ]
  },
  {
   "cell_type": "markdown",
   "id": "b7bc0cff",
   "metadata": {},
   "source": [
    "Imports for the ML"
   ]
  },
  {
   "cell_type": "code",
   "execution_count": 881,
   "id": "221b8fd2",
   "metadata": {},
   "outputs": [],
   "source": [
    "import pandas as pd\n",
    "import numpy as np\n",
    "import matplotlib.pyplot as plt\n",
    "from sklearn.preprocessing import MinMaxScaler\n",
    "from sklearn.feature_selection import SelectKBest, f_regression\n",
    "from sklearn.model_selection import train_test_split\n",
    "from sklearn.preprocessing import MultiLabelBinarizer\n",
    "from sklearn.linear_model import LogisticRegression\n",
    "from sklearn.preprocessing import StandardScaler\n",
    "import ast\n",
    "import re\n",
    "import seaborn as sns\n",
    "from bs4 import BeautifulSoup\n",
    "from datetime import datetime, date\n",
    "from sklearn.ensemble import RandomForestClassifier\n",
    "from sklearn.model_selection import train_test_split\n",
    "from sklearn.metrics import accuracy_score\n",
    "from sklearn.datasets import load_diabetes\n",
    "from sklearn.model_selection import train_test_split\n",
    "from sklearn.ensemble import GradientBoostingRegressor\n",
    "from sklearn.metrics import mean_squared_error\n",
    "from sklearn.ensemble import GradientBoostingClassifier\n",
    "from sklearn.datasets import make_classification\n",
    "from sklearn.datasets import load_diabetes\n",
    "from sklearn.model_selection import train_test_split\n",
    "from sklearn.ensemble import GradientBoostingRegressor\n",
    "from sklearn.metrics import mean_squared_error\n",
    "from sklearn.metrics import r2_score\n"
   ]
  },
  {
   "cell_type": "code",
   "execution_count": 882,
   "id": "5175318a",
   "metadata": {},
   "outputs": [
    {
     "data": {
      "text/plain": [
       "Index(['Game_names', 'Genres_by_site', 'Game_languages', 'Game_reviwes_all',\n",
       "       'Game_reviwes_positive', 'Game_reviwes_nagitive',\n",
       "       'Game_achievments_num', 'Game_achievments_grades',\n",
       "       'Offensive_word_count', 'Num_of_game_languages',\n",
       "       'Num_of_genres_by_site', 'Game_release_date_cleaned',\n",
       "       'Game_reviwes_positive_percentage', 'successful_game',\n",
       "       'days_until_scraping_day', 'reviwes_positive_per_day',\n",
       "       'reviwes_all_per_day'],\n",
       "      dtype='object')"
      ]
     },
     "execution_count": 882,
     "metadata": {},
     "output_type": "execute_result"
    }
   ],
   "source": [
    "df_copy.columns"
   ]
  },
  {
   "cell_type": "code",
   "execution_count": 883,
   "id": "26d1fcf7",
   "metadata": {},
   "outputs": [],
   "source": [
    "columns_to_drop = ['Game_languages' ,'Game_release_date_cleaned', 'Genres_by_site']\n",
    "df_copy.drop(columns_to_drop, axis=1, inplace=True)"
   ]
  },
  {
   "cell_type": "code",
   "execution_count": 884,
   "id": "547ad1eb",
   "metadata": {},
   "outputs": [],
   "source": [
    "#Already removed\n",
    "#[\"Genres_by_site\",\"Game_developer\", \"Game_tags\", \"Game_languages\", \"Game_content_description\", \"Game__release_date\"]\n",
    "\n",
    "df_ml2 = df_copy.copy()\n",
    "df_ml3 = df_copy.copy()\n",
    "df_ml4 = df_copy.copy()\n",
    "df_ml5 = df_copy.copy()\n",
    "df_ml6 = df_copy.copy()\n",
    "#df_ml2['successful_game'].describe()\n",
    "#df_ml2.drop('Game__release_date_cleaned', axis=1, inplace=True)\n",
    "\n",
    "# Create a scaler object\n",
    "scaler = MinMaxScaler()\n",
    "\n",
    "# Reshape the column for scaling\n",
    "column_to_scale = df_ml2['days_until_scraping_day'].values.reshape(-1, 1)\n",
    "\n",
    "# Scale the selected column\n",
    "df_ml2['days_until_scraping_day'] = scaler.fit_transform(column_to_scale)\n"
   ]
  },
  {
   "cell_type": "code",
   "execution_count": 885,
   "id": "a5d7b33e",
   "metadata": {},
   "outputs": [
    {
     "data": {
      "text/plain": [
       "Index(['Game_names', 'Game_reviwes_all', 'Game_reviwes_positive',\n",
       "       'Game_reviwes_nagitive', 'Game_achievments_num',\n",
       "       'Game_achievments_grades', 'Offensive_word_count',\n",
       "       'Num_of_game_languages', 'Num_of_genres_by_site',\n",
       "       'Game_reviwes_positive_percentage', 'successful_game',\n",
       "       'days_until_scraping_day', 'reviwes_positive_per_day',\n",
       "       'reviwes_all_per_day'],\n",
       "      dtype='object')"
      ]
     },
     "execution_count": 885,
     "metadata": {},
     "output_type": "execute_result"
    }
   ],
   "source": [
    "df_ml2.columns"
   ]
  },
  {
   "cell_type": "code",
   "execution_count": 886,
   "id": "6b915e54",
   "metadata": {},
   "outputs": [
    {
     "data": {
      "text/plain": [
       "(463, 14)"
      ]
     },
     "execution_count": 886,
     "metadata": {},
     "output_type": "execute_result"
    }
   ],
   "source": [
    "df_copy.shape"
   ]
  },
  {
   "cell_type": "code",
   "execution_count": 887,
   "id": "2f8638c8",
   "metadata": {},
   "outputs": [
    {
     "name": "stdout",
     "output_type": "stream",
     "text": [
      "Random Forest Accuracy: 0.8279569892473119\n"
     ]
    }
   ],
   "source": [
    "df_ml2 = df_copy.copy()\n",
    "# Drop the columns and assign the result to X\n",
    "columns_to_drop = ['Game_names' , 'Game_reviwes_all', 'Game_reviwes_positive',\n",
    "                   'Game_reviwes_nagitive', 'reviwes_all_per_day', 'reviwes_positive_per_day', 'successful_game',\n",
    "                   'Game_reviwes_positive_percentage', 'Game_achievments_grades']\n",
    "\n",
    "target_column = 'successful_game'\n",
    "y = df_ml2[target_column]\n",
    "\n",
    "df_ml2.drop(columns_to_drop, axis=1, inplace=True)\n",
    "X = df_ml2\n",
    "\n",
    "\n",
    "# Split the dataset into training and testing sets\n",
    "X_train, X_test, y_train, y_test = train_test_split(X, y, test_size=0.2, random_state=42)\n",
    "\n",
    "# Create a Random Forest classifier with 100 trees\n",
    "rf_classifier = RandomForestClassifier(n_estimators=100)\n",
    "\n",
    "# Train the classifier on the training data\n",
    "rf_classifier.fit(X_train, y_train)\n",
    "\n",
    "# Make predictions on the test data\n",
    "y_pred = rf_classifier.predict(X_test)\n",
    "\n",
    "# Evaluate the accuracy of the model\n",
    "accuracy = accuracy_score(y_test, y_pred)\n",
    "print(\"Random Forest Accuracy:\", accuracy)\n"
   ]
  },
  {
   "cell_type": "code",
   "execution_count": 888,
   "id": "7bbc77fa",
   "metadata": {},
   "outputs": [
    {
     "name": "stdout",
     "output_type": "stream",
     "text": [
      "Guardian Boosting Accuracy: 0.9\n"
     ]
    }
   ],
   "source": [
    "df_ml3 = df_copy.copy()\n",
    "# Drop the columns and assign the result to X\n",
    "columns_to_drop = ['Game_names', 'Game_reviwes_all', 'Game_reviwes_positive', 'Game_reviwes_nagitive',\n",
    "                   'reviwes_all_per_day', 'reviwes_positive_per_day', 'successful_game', 'Game_achievments_grades']\n",
    "target_column = 'successful_game'\n",
    "\n",
    "\n",
    "\n",
    "y = df_ml3[target_column]\n",
    "\n",
    "df_ml3.drop(columns_to_drop, axis=1, inplace=True)\n",
    "X = df_ml3\n",
    "\n",
    "X, y = make_classification(n_samples=1000, n_features=10, random_state=42)\n",
    "\n",
    "# Split the dataset into training and testing sets\n",
    "X_train, X_test, y_train, y_test = train_test_split(X, y, test_size=0.2, random_state=42)\n",
    "\n",
    "gb_classifier = GradientBoostingClassifier()\n",
    "\n",
    "# Train the classifier on the training data\n",
    "gb_classifier.fit(X_train, y_train)\n",
    "\n",
    "# Make predictions on the test data\n",
    "y_pred = gb_classifier.predict(X_test)\n",
    "\n",
    "# Calculate the accuracy of the model\n",
    "accuracy2 = accuracy_score(y_test, y_pred)\n",
    "print(\"Guardian Boosting Accuracy:\", accuracy2)\n"
   ]
  },
  {
   "cell_type": "code",
   "execution_count": 889,
   "id": "50864faa",
   "metadata": {},
   "outputs": [
    {
     "name": "stdout",
     "output_type": "stream",
     "text": [
      "Guardian Boosting R2 score: 0.44890724345942035\n",
      "\n",
      "Root Mean Squared Error: 54.03492436989531\n",
      "[161.28890402 191.88852889 165.67045702 282.21696222 126.49996592\n",
      " 134.88300076 256.88224286 222.7045274  165.78383004 155.64221091\n",
      "  99.00733449 191.74171606  97.58573764 225.401141   115.1540594\n",
      " 133.35092035 235.84498939 252.91414377 164.09983535 231.43143199\n",
      " 192.35140539  95.62484163  67.54198254 202.2972312  159.53403047\n",
      " 183.7925768  195.3200868  179.47572829  71.15936531 108.37068485\n",
      " 170.07419058 128.78259432 147.42247059 188.10588472 147.57750783\n",
      " 193.22024796 116.39189263 118.66001789 184.57829795  67.167402\n",
      "  63.06461029  81.27471725 172.59588967 198.64947627 171.1680638\n",
      "  79.77418456 114.0814497  116.85106502  83.27173248 170.25102398\n",
      " 127.80184977  79.17912235 148.04542475 102.73086241 195.19948233\n",
      " 147.5767223  102.43547652 237.35568497  94.67990241  86.56337633\n",
      " 177.9989703  183.73615687 139.67408135  80.16675784 126.29770288\n",
      " 213.56793654 168.93762342 183.8378404  150.8176092   96.00984146\n",
      " 158.55830804 194.74669265 220.44603501  86.04214076  74.96904681\n",
      " 205.97064004 216.64897289 179.50581424 183.49471724 254.87856577\n",
      "  94.5824032  122.35295266  66.86347842  78.63416143  77.68117641\n",
      "  70.5079578   85.5600632   85.11945139 162.28694296]\n"
     ]
    }
   ],
   "source": [
    "df_ml4 = df_copy.copy()\n",
    "# Drop the columns and assign the result to X\n",
    "columns_to_drop = ['Game_names', 'Game_reviwes_all', 'Game_reviwes_positive', 'Game_reviwes_nagitive',\n",
    "                   'reviwes_all_per_day', 'reviwes_positive_per_day', 'successful_game',\n",
    "                   'days_until_scraping_day']\n",
    "\n",
    "target_column = 'reviwes_positive_per_day'\n",
    "\n",
    "y = df_ml4[target_column]\n",
    "\n",
    "df_ml4.drop(columns_to_drop, axis=1, inplace=True)\n",
    "X = df_ml4\n",
    "\n",
    "\n",
    "# Load the Diabetes dataset\n",
    "diabetes = load_diabetes()\n",
    "X, y = diabetes.data, diabetes.target\n",
    "\n",
    "# Split the dataset into training and testing sets\n",
    "X_train, X_test, y_train, y_test = train_test_split(X, y, test_size=0.2, random_state=42)\n",
    "\n",
    "# Create a Gradient Boosting regressor\n",
    "gb_regressor = GradientBoostingRegressor()\n",
    "\n",
    "# Train the model on the training data\n",
    "gb_regressor.fit(X_train, y_train)\n",
    "\n",
    "# Make predictions on the test data\n",
    "y_pred = gb_regressor.predict(X_test)\n",
    "\n",
    "\n",
    "# Calculate the R2 score\n",
    "r2 = r2_score(y_test, y_pred)\n",
    "\n",
    "# Print the R2 score\n",
    "print(\"Guardian Boosting R2 score:\", r2)\n",
    "print()\n",
    "# Calculate the root mean squared error\n",
    "rmse = mean_squared_error(y_test, y_pred, squared=False)\n",
    "print(\"Root Mean Squared Error:\", rmse)\n",
    "\n",
    "# Round RMSE to two decimal places\n",
    "\n",
    "print(y_pred)"
   ]
  },
  {
   "cell_type": "code",
   "execution_count": 890,
   "id": "b13807ac",
   "metadata": {},
   "outputs": [
    {
     "name": "stdout",
     "output_type": "stream",
     "text": [
      "Linear Regression R2 score: 0.012288409191498872\n",
      "\n",
      "Mean Squared Error: 11.981183841943917\n"
     ]
    }
   ],
   "source": [
    "from sklearn.linear_model import LinearRegression\n",
    "from sklearn.model_selection import train_test_split\n",
    "from sklearn.metrics import mean_squared_error\n",
    "\n",
    "df_ml5 = df_copy.copy()\n",
    "\n",
    "# Drop the columns and assign the result to X\n",
    "columns_to_drop = ['Game_names', 'Game_reviwes_all', 'Game_reviwes_positive', 'Game_reviwes_nagitive',\n",
    "                   'reviwes_all_per_day', 'reviwes_positive_per_day', 'successful_game',\n",
    "                   'days_until_scraping_day']\n",
    "\n",
    "target_column = 'reviwes_positive_per_day'\n",
    "\n",
    "y = df_ml5[target_column]\n",
    "\n",
    "df_ml5.drop(columns_to_drop, axis=1, inplace=True)\n",
    "X = df_ml5\n",
    "\n",
    "# Load your dataset and split it into features (X) and target variable (y)\n",
    "X_train, X_test, y_train, y_test = train_test_split(X, y, test_size=0.2, random_state=42)\n",
    "\n",
    "# Create a Linear Regression model\n",
    "linear_regression = LinearRegression()\n",
    "\n",
    "# Train the model on the training data\n",
    "linear_regression.fit(X_train, y_train)\n",
    "\n",
    "# Make predictions on the test data\n",
    "y_pred = linear_regression.predict(X_test)\n",
    "\n",
    "# Calculate the R2 score\n",
    "r2 = r2_score(y_test, y_pred)\n",
    "\n",
    "\n",
    "\n",
    "# Print the R2 score\n",
    "print(\"Linear Regression R2 score:\", r2)\n",
    "\n",
    "print()\n",
    "# Evaluate the model using mean squared error\n",
    "mse = mean_squared_error(y_test, y_pred)\n",
    "print(\"Mean Squared Error:\", mse)"
   ]
  },
  {
   "cell_type": "code",
   "execution_count": 891,
   "id": "baed6098",
   "metadata": {},
   "outputs": [
    {
     "name": "stdout",
     "output_type": "stream",
     "text": [
      "Logistic RegressionAccuracy: 0.8602150537634409\n"
     ]
    }
   ],
   "source": [
    "from sklearn.linear_model import LogisticRegression\n",
    "from sklearn.model_selection import train_test_split\n",
    "from sklearn.metrics import accuracy_score\n",
    "\n",
    "df_ml6 = df_copy.copy()\n",
    "\n",
    "# Drop the columns and assign the result to X\n",
    "columns_to_drop = ['Game_names' , 'Game_reviwes_all', 'Game_reviwes_positive',\n",
    "                   'Game_reviwes_nagitive', 'reviwes_all_per_day', 'reviwes_positive_per_day', 'successful_game',\n",
    "                   'Game_reviwes_positive_percentage', 'Game_achievments_grades']\n",
    "\n",
    "target_column = 'successful_game'\n",
    "\n",
    "y = df_ml6[target_column]\n",
    "\n",
    "df_ml6.drop(columns_to_drop, axis=1, inplace=True)\n",
    "X = df_ml6\n",
    "\n",
    "# Load your dataset and split it into features (X) and target variable (y)\n",
    "X_train, X_test, y_train, y_test = train_test_split(X, y, test_size=0.2, random_state=42)\n",
    "\n",
    "# Create a Logistic Regression model\n",
    "logistic_regression = LogisticRegression(max_iter = 1000)\n",
    "\n",
    "# Train the model on the training data\n",
    "logistic_regression.fit(X_train, y_train)\n",
    "\n",
    "# Make predictions on the test data\n",
    "y_pred = logistic_regression.predict(X_test)\n",
    "\n",
    "# Evaluate the model using accuracy\n",
    "accuracy = accuracy_score(y_test, y_pred)\n",
    "print(\"Logistic RegressionAccuracy:\", accuracy)"
   ]
  }
 ],
 "metadata": {
  "kernelspec": {
   "display_name": "Python 3 (ipykernel)",
   "language": "python",
   "name": "python3"
  },
  "language_info": {
   "codemirror_mode": {
    "name": "ipython",
    "version": 3
   },
   "file_extension": ".py",
   "mimetype": "text/x-python",
   "name": "python",
   "nbconvert_exporter": "python",
   "pygments_lexer": "ipython3",
   "version": "3.9.13"
  }
 },
 "nbformat": 4,
 "nbformat_minor": 5
}
